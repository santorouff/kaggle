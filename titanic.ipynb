{
 "cells": [
  {
   "cell_type": "markdown",
   "id": "ac6ffb9c",
   "metadata": {
    "papermill": {
     "duration": 0.012296,
     "end_time": "2023-01-31T22:30:49.189137",
     "exception": false,
     "start_time": "2023-01-31T22:30:49.176841",
     "status": "completed"
    },
    "tags": []
   },
   "source": [
    "# Titanic Competition"
   ]
  },
  {
   "cell_type": "code",
   "execution_count": 1,
   "id": "c8b93513",
   "metadata": {
    "_cell_guid": "b1076dfc-b9ad-4769-8c92-a6c4dae69d19",
    "_uuid": "8f2839f25d086af736a60e9eeb907d3b93b6e0e5",
    "execution": {
     "iopub.execute_input": "2023-01-31T22:30:49.211399Z",
     "iopub.status.busy": "2023-01-31T22:30:49.210791Z",
     "iopub.status.idle": "2023-01-31T22:30:49.227099Z",
     "shell.execute_reply": "2023-01-31T22:30:49.225830Z"
    },
    "papermill": {
     "duration": 0.03167,
     "end_time": "2023-01-31T22:30:49.230883",
     "exception": false,
     "start_time": "2023-01-31T22:30:49.199213",
     "status": "completed"
    },
    "tags": []
   },
   "outputs": [
    {
     "name": "stdout",
     "output_type": "stream",
     "text": [
      "/kaggle/input/titanic/train.csv\n",
      "/kaggle/input/titanic/test.csv\n",
      "/kaggle/input/titanic/gender_submission.csv\n"
     ]
    }
   ],
   "source": [
    "# This Python 3 environment comes with many helpful analytics libraries installed\n",
    "# It is defined by the kaggle/python Docker image: https://github.com/kaggle/docker-python\n",
    "# For example, here's several helpful packages to load\n",
    "\n",
    "import numpy as np # linear algebra\n",
    "import pandas as pd # data processing, CSV file I/O (e.g. pd.read_csv)\n",
    "\n",
    "# Input data files are available in the read-only \"../input/\" directory\n",
    "# For example, running this (by clicking run or pressing Shift+Enter) will list all files under the input directory\n",
    "\n",
    "import os\n",
    "for dirname, _, filenames in os.walk('/kaggle/input'):\n",
    "    for filename in filenames:\n",
    "        print(os.path.join(dirname, filename))\n",
    "\n",
    "# You can write up to 20GB to the current directory (/kaggle/working/) that gets preserved as output when you create a version using \"Save & Run All\" \n",
    "# You can also write temporary files to /kaggle/temp/, but they won't be saved outside of the current session"
   ]
  },
  {
   "cell_type": "markdown",
   "id": "4450d7ab",
   "metadata": {
    "papermill": {
     "duration": 0.009738,
     "end_time": "2023-01-31T22:30:49.251424",
     "exception": false,
     "start_time": "2023-01-31T22:30:49.241686",
     "status": "completed"
    },
    "tags": []
   },
   "source": [
    "### Import libraries"
   ]
  },
  {
   "cell_type": "code",
   "execution_count": 2,
   "id": "fafed7df",
   "metadata": {
    "execution": {
     "iopub.execute_input": "2023-01-31T22:30:49.273849Z",
     "iopub.status.busy": "2023-01-31T22:30:49.273275Z",
     "iopub.status.idle": "2023-01-31T22:30:51.159036Z",
     "shell.execute_reply": "2023-01-31T22:30:51.157872Z"
    },
    "papermill": {
     "duration": 1.900165,
     "end_time": "2023-01-31T22:30:51.161896",
     "exception": false,
     "start_time": "2023-01-31T22:30:49.261731",
     "status": "completed"
    },
    "tags": []
   },
   "outputs": [],
   "source": [
    "import matplotlib.pyplot as plt\n",
    "%matplotlib inline\n",
    "import seaborn as sns\n",
    "\n",
    "from sklearn.model_selection import train_test_split\n",
    "from sklearn.metrics import  confusion_matrix, f1_score, accuracy_score\n",
    "from sklearn.neighbors import KNeighborsClassifier\n",
    "from sklearn.model_selection import cross_val_score\n",
    "from sklearn.naive_bayes import GaussianNB\n",
    "from sklearn.linear_model import LogisticRegression\n",
    "from sklearn import tree\n",
    "from sklearn.neighbors import KNeighborsClassifier\n",
    "from sklearn.tree import DecisionTreeClassifier\n",
    "from sklearn.ensemble import RandomForestClassifier, AdaBoostClassifier\n",
    "from xgboost import XGBClassifier\n",
    "from sklearn.svm import SVC"
   ]
  },
  {
   "cell_type": "markdown",
   "id": "d6683dfe",
   "metadata": {
    "papermill": {
     "duration": 0.010596,
     "end_time": "2023-01-31T22:30:51.183963",
     "exception": false,
     "start_time": "2023-01-31T22:30:51.173367",
     "status": "completed"
    },
    "tags": []
   },
   "source": [
    "### Read Data"
   ]
  },
  {
   "cell_type": "code",
   "execution_count": 3,
   "id": "248995e4",
   "metadata": {
    "execution": {
     "iopub.execute_input": "2023-01-31T22:30:51.206870Z",
     "iopub.status.busy": "2023-01-31T22:30:51.205362Z",
     "iopub.status.idle": "2023-01-31T22:30:51.257541Z",
     "shell.execute_reply": "2023-01-31T22:30:51.256390Z"
    },
    "papermill": {
     "duration": 0.065708,
     "end_time": "2023-01-31T22:30:51.259967",
     "exception": false,
     "start_time": "2023-01-31T22:30:51.194259",
     "status": "completed"
    },
    "tags": []
   },
   "outputs": [
    {
     "data": {
      "text/html": [
       "<div>\n",
       "<style scoped>\n",
       "    .dataframe tbody tr th:only-of-type {\n",
       "        vertical-align: middle;\n",
       "    }\n",
       "\n",
       "    .dataframe tbody tr th {\n",
       "        vertical-align: top;\n",
       "    }\n",
       "\n",
       "    .dataframe thead th {\n",
       "        text-align: right;\n",
       "    }\n",
       "</style>\n",
       "<table border=\"1\" class=\"dataframe\">\n",
       "  <thead>\n",
       "    <tr style=\"text-align: right;\">\n",
       "      <th></th>\n",
       "      <th>PassengerId</th>\n",
       "      <th>Survived</th>\n",
       "      <th>Pclass</th>\n",
       "      <th>Name</th>\n",
       "      <th>Sex</th>\n",
       "      <th>Age</th>\n",
       "      <th>SibSp</th>\n",
       "      <th>Parch</th>\n",
       "      <th>Ticket</th>\n",
       "      <th>Fare</th>\n",
       "      <th>Cabin</th>\n",
       "      <th>Embarked</th>\n",
       "    </tr>\n",
       "  </thead>\n",
       "  <tbody>\n",
       "    <tr>\n",
       "      <th>0</th>\n",
       "      <td>1</td>\n",
       "      <td>0</td>\n",
       "      <td>3</td>\n",
       "      <td>Braund, Mr. Owen Harris</td>\n",
       "      <td>male</td>\n",
       "      <td>22.0</td>\n",
       "      <td>1</td>\n",
       "      <td>0</td>\n",
       "      <td>A/5 21171</td>\n",
       "      <td>7.2500</td>\n",
       "      <td>NaN</td>\n",
       "      <td>S</td>\n",
       "    </tr>\n",
       "    <tr>\n",
       "      <th>1</th>\n",
       "      <td>2</td>\n",
       "      <td>1</td>\n",
       "      <td>1</td>\n",
       "      <td>Cumings, Mrs. John Bradley (Florence Briggs Th...</td>\n",
       "      <td>female</td>\n",
       "      <td>38.0</td>\n",
       "      <td>1</td>\n",
       "      <td>0</td>\n",
       "      <td>PC 17599</td>\n",
       "      <td>71.2833</td>\n",
       "      <td>C85</td>\n",
       "      <td>C</td>\n",
       "    </tr>\n",
       "    <tr>\n",
       "      <th>2</th>\n",
       "      <td>3</td>\n",
       "      <td>1</td>\n",
       "      <td>3</td>\n",
       "      <td>Heikkinen, Miss. Laina</td>\n",
       "      <td>female</td>\n",
       "      <td>26.0</td>\n",
       "      <td>0</td>\n",
       "      <td>0</td>\n",
       "      <td>STON/O2. 3101282</td>\n",
       "      <td>7.9250</td>\n",
       "      <td>NaN</td>\n",
       "      <td>S</td>\n",
       "    </tr>\n",
       "    <tr>\n",
       "      <th>3</th>\n",
       "      <td>4</td>\n",
       "      <td>1</td>\n",
       "      <td>1</td>\n",
       "      <td>Futrelle, Mrs. Jacques Heath (Lily May Peel)</td>\n",
       "      <td>female</td>\n",
       "      <td>35.0</td>\n",
       "      <td>1</td>\n",
       "      <td>0</td>\n",
       "      <td>113803</td>\n",
       "      <td>53.1000</td>\n",
       "      <td>C123</td>\n",
       "      <td>S</td>\n",
       "    </tr>\n",
       "    <tr>\n",
       "      <th>4</th>\n",
       "      <td>5</td>\n",
       "      <td>0</td>\n",
       "      <td>3</td>\n",
       "      <td>Allen, Mr. William Henry</td>\n",
       "      <td>male</td>\n",
       "      <td>35.0</td>\n",
       "      <td>0</td>\n",
       "      <td>0</td>\n",
       "      <td>373450</td>\n",
       "      <td>8.0500</td>\n",
       "      <td>NaN</td>\n",
       "      <td>S</td>\n",
       "    </tr>\n",
       "  </tbody>\n",
       "</table>\n",
       "</div>"
      ],
      "text/plain": [
       "   PassengerId  Survived  Pclass  \\\n",
       "0            1         0       3   \n",
       "1            2         1       1   \n",
       "2            3         1       3   \n",
       "3            4         1       1   \n",
       "4            5         0       3   \n",
       "\n",
       "                                                Name     Sex   Age  SibSp  \\\n",
       "0                            Braund, Mr. Owen Harris    male  22.0      1   \n",
       "1  Cumings, Mrs. John Bradley (Florence Briggs Th...  female  38.0      1   \n",
       "2                             Heikkinen, Miss. Laina  female  26.0      0   \n",
       "3       Futrelle, Mrs. Jacques Heath (Lily May Peel)  female  35.0      1   \n",
       "4                           Allen, Mr. William Henry    male  35.0      0   \n",
       "\n",
       "   Parch            Ticket     Fare Cabin Embarked  \n",
       "0      0         A/5 21171   7.2500   NaN        S  \n",
       "1      0          PC 17599  71.2833   C85        C  \n",
       "2      0  STON/O2. 3101282   7.9250   NaN        S  \n",
       "3      0            113803  53.1000  C123        S  \n",
       "4      0            373450   8.0500   NaN        S  "
      ]
     },
     "execution_count": 3,
     "metadata": {},
     "output_type": "execute_result"
    }
   ],
   "source": [
    "train = pd.read_csv('/kaggle/input/titanic/train.csv')\n",
    "test = pd.read_csv('/kaggle/input/titanic/test.csv')\n",
    "train.head()"
   ]
  },
  {
   "cell_type": "code",
   "execution_count": 4,
   "id": "9abc0153",
   "metadata": {
    "execution": {
     "iopub.execute_input": "2023-01-31T22:30:51.283055Z",
     "iopub.status.busy": "2023-01-31T22:30:51.282467Z",
     "iopub.status.idle": "2023-01-31T22:30:51.289031Z",
     "shell.execute_reply": "2023-01-31T22:30:51.287593Z"
    },
    "papermill": {
     "duration": 0.021201,
     "end_time": "2023-01-31T22:30:51.291649",
     "exception": false,
     "start_time": "2023-01-31T22:30:51.270448",
     "status": "completed"
    },
    "tags": []
   },
   "outputs": [
    {
     "name": "stdout",
     "output_type": "stream",
     "text": [
      "(891, 12)\n",
      "(418, 11)\n"
     ]
    }
   ],
   "source": [
    "print(train.shape)\n",
    "print(test.shape)"
   ]
  },
  {
   "cell_type": "code",
   "execution_count": 5,
   "id": "59dbf165",
   "metadata": {
    "execution": {
     "iopub.execute_input": "2023-01-31T22:30:51.314206Z",
     "iopub.status.busy": "2023-01-31T22:30:51.313796Z",
     "iopub.status.idle": "2023-01-31T22:30:51.343764Z",
     "shell.execute_reply": "2023-01-31T22:30:51.342443Z"
    },
    "papermill": {
     "duration": 0.04469,
     "end_time": "2023-01-31T22:30:51.346667",
     "exception": false,
     "start_time": "2023-01-31T22:30:51.301977",
     "status": "completed"
    },
    "tags": []
   },
   "outputs": [
    {
     "data": {
      "text/html": [
       "<div>\n",
       "<style scoped>\n",
       "    .dataframe tbody tr th:only-of-type {\n",
       "        vertical-align: middle;\n",
       "    }\n",
       "\n",
       "    .dataframe tbody tr th {\n",
       "        vertical-align: top;\n",
       "    }\n",
       "\n",
       "    .dataframe thead th {\n",
       "        text-align: right;\n",
       "    }\n",
       "</style>\n",
       "<table border=\"1\" class=\"dataframe\">\n",
       "  <thead>\n",
       "    <tr style=\"text-align: right;\">\n",
       "      <th></th>\n",
       "      <th>PassengerId</th>\n",
       "      <th>Survived</th>\n",
       "      <th>Pclass</th>\n",
       "      <th>Name</th>\n",
       "      <th>Sex</th>\n",
       "      <th>Age</th>\n",
       "      <th>SibSp</th>\n",
       "      <th>Parch</th>\n",
       "      <th>Ticket</th>\n",
       "      <th>Fare</th>\n",
       "      <th>Cabin</th>\n",
       "      <th>Embarked</th>\n",
       "    </tr>\n",
       "  </thead>\n",
       "  <tbody>\n",
       "    <tr>\n",
       "      <th>413</th>\n",
       "      <td>1305</td>\n",
       "      <td>NaN</td>\n",
       "      <td>3</td>\n",
       "      <td>Spector, Mr. Woolf</td>\n",
       "      <td>male</td>\n",
       "      <td>NaN</td>\n",
       "      <td>0</td>\n",
       "      <td>0</td>\n",
       "      <td>A.5. 3236</td>\n",
       "      <td>8.0500</td>\n",
       "      <td>NaN</td>\n",
       "      <td>S</td>\n",
       "    </tr>\n",
       "    <tr>\n",
       "      <th>414</th>\n",
       "      <td>1306</td>\n",
       "      <td>NaN</td>\n",
       "      <td>1</td>\n",
       "      <td>Oliva y Ocana, Dona. Fermina</td>\n",
       "      <td>female</td>\n",
       "      <td>39.0</td>\n",
       "      <td>0</td>\n",
       "      <td>0</td>\n",
       "      <td>PC 17758</td>\n",
       "      <td>108.9000</td>\n",
       "      <td>C105</td>\n",
       "      <td>C</td>\n",
       "    </tr>\n",
       "    <tr>\n",
       "      <th>415</th>\n",
       "      <td>1307</td>\n",
       "      <td>NaN</td>\n",
       "      <td>3</td>\n",
       "      <td>Saether, Mr. Simon Sivertsen</td>\n",
       "      <td>male</td>\n",
       "      <td>38.5</td>\n",
       "      <td>0</td>\n",
       "      <td>0</td>\n",
       "      <td>SOTON/O.Q. 3101262</td>\n",
       "      <td>7.2500</td>\n",
       "      <td>NaN</td>\n",
       "      <td>S</td>\n",
       "    </tr>\n",
       "    <tr>\n",
       "      <th>416</th>\n",
       "      <td>1308</td>\n",
       "      <td>NaN</td>\n",
       "      <td>3</td>\n",
       "      <td>Ware, Mr. Frederick</td>\n",
       "      <td>male</td>\n",
       "      <td>NaN</td>\n",
       "      <td>0</td>\n",
       "      <td>0</td>\n",
       "      <td>359309</td>\n",
       "      <td>8.0500</td>\n",
       "      <td>NaN</td>\n",
       "      <td>S</td>\n",
       "    </tr>\n",
       "    <tr>\n",
       "      <th>417</th>\n",
       "      <td>1309</td>\n",
       "      <td>NaN</td>\n",
       "      <td>3</td>\n",
       "      <td>Peter, Master. Michael J</td>\n",
       "      <td>male</td>\n",
       "      <td>NaN</td>\n",
       "      <td>1</td>\n",
       "      <td>1</td>\n",
       "      <td>2668</td>\n",
       "      <td>22.3583</td>\n",
       "      <td>NaN</td>\n",
       "      <td>C</td>\n",
       "    </tr>\n",
       "  </tbody>\n",
       "</table>\n",
       "</div>"
      ],
      "text/plain": [
       "     PassengerId  Survived  Pclass                          Name     Sex  \\\n",
       "413         1305       NaN       3            Spector, Mr. Woolf    male   \n",
       "414         1306       NaN       1  Oliva y Ocana, Dona. Fermina  female   \n",
       "415         1307       NaN       3  Saether, Mr. Simon Sivertsen    male   \n",
       "416         1308       NaN       3           Ware, Mr. Frederick    male   \n",
       "417         1309       NaN       3      Peter, Master. Michael J    male   \n",
       "\n",
       "      Age  SibSp  Parch              Ticket      Fare Cabin Embarked  \n",
       "413   NaN      0      0           A.5. 3236    8.0500   NaN        S  \n",
       "414  39.0      0      0            PC 17758  108.9000  C105        C  \n",
       "415  38.5      0      0  SOTON/O.Q. 3101262    7.2500   NaN        S  \n",
       "416   NaN      0      0              359309    8.0500   NaN        S  \n",
       "417   NaN      1      1                2668   22.3583   NaN        C  "
      ]
     },
     "execution_count": 5,
     "metadata": {},
     "output_type": "execute_result"
    }
   ],
   "source": [
    "df = pd.concat([train, test])\n",
    "df.tail()"
   ]
  },
  {
   "cell_type": "code",
   "execution_count": 6,
   "id": "c0566959",
   "metadata": {
    "execution": {
     "iopub.execute_input": "2023-01-31T22:30:51.369742Z",
     "iopub.status.busy": "2023-01-31T22:30:51.369317Z",
     "iopub.status.idle": "2023-01-31T22:30:51.376756Z",
     "shell.execute_reply": "2023-01-31T22:30:51.375586Z"
    },
    "papermill": {
     "duration": 0.021788,
     "end_time": "2023-01-31T22:30:51.379137",
     "exception": false,
     "start_time": "2023-01-31T22:30:51.357349",
     "status": "completed"
    },
    "tags": []
   },
   "outputs": [
    {
     "data": {
      "text/plain": [
       "(1309, 12)"
      ]
     },
     "execution_count": 6,
     "metadata": {},
     "output_type": "execute_result"
    }
   ],
   "source": [
    "df.shape"
   ]
  },
  {
   "cell_type": "markdown",
   "id": "14a5abba",
   "metadata": {
    "papermill": {
     "duration": 0.010192,
     "end_time": "2023-01-31T22:30:51.399907",
     "exception": false,
     "start_time": "2023-01-31T22:30:51.389715",
     "status": "completed"
    },
    "tags": []
   },
   "source": [
    "### Exploratory Data Analysis"
   ]
  },
  {
   "cell_type": "code",
   "execution_count": 7,
   "id": "a5ff75ff",
   "metadata": {
    "execution": {
     "iopub.execute_input": "2023-01-31T22:30:51.422588Z",
     "iopub.status.busy": "2023-01-31T22:30:51.422168Z",
     "iopub.status.idle": "2023-01-31T22:30:51.450030Z",
     "shell.execute_reply": "2023-01-31T22:30:51.448233Z"
    },
    "papermill": {
     "duration": 0.042995,
     "end_time": "2023-01-31T22:30:51.453339",
     "exception": false,
     "start_time": "2023-01-31T22:30:51.410344",
     "status": "completed"
    },
    "tags": []
   },
   "outputs": [
    {
     "name": "stdout",
     "output_type": "stream",
     "text": [
      "<class 'pandas.core.frame.DataFrame'>\n",
      "Int64Index: 1309 entries, 0 to 417\n",
      "Data columns (total 12 columns):\n",
      " #   Column       Non-Null Count  Dtype  \n",
      "---  ------       --------------  -----  \n",
      " 0   PassengerId  1309 non-null   int64  \n",
      " 1   Survived     891 non-null    float64\n",
      " 2   Pclass       1309 non-null   int64  \n",
      " 3   Name         1309 non-null   object \n",
      " 4   Sex          1309 non-null   object \n",
      " 5   Age          1046 non-null   float64\n",
      " 6   SibSp        1309 non-null   int64  \n",
      " 7   Parch        1309 non-null   int64  \n",
      " 8   Ticket       1309 non-null   object \n",
      " 9   Fare         1308 non-null   float64\n",
      " 10  Cabin        295 non-null    object \n",
      " 11  Embarked     1307 non-null   object \n",
      "dtypes: float64(3), int64(4), object(5)\n",
      "memory usage: 132.9+ KB\n"
     ]
    }
   ],
   "source": [
    "df.info()"
   ]
  },
  {
   "cell_type": "code",
   "execution_count": 8,
   "id": "5a05c309",
   "metadata": {
    "execution": {
     "iopub.execute_input": "2023-01-31T22:30:51.477563Z",
     "iopub.status.busy": "2023-01-31T22:30:51.477070Z",
     "iopub.status.idle": "2023-01-31T22:30:51.500757Z",
     "shell.execute_reply": "2023-01-31T22:30:51.499162Z"
    },
    "papermill": {
     "duration": 0.038706,
     "end_time": "2023-01-31T22:30:51.503454",
     "exception": false,
     "start_time": "2023-01-31T22:30:51.464748",
     "status": "completed"
    },
    "tags": []
   },
   "outputs": [
    {
     "name": "stderr",
     "output_type": "stream",
     "text": [
      "/opt/conda/lib/python3.7/site-packages/ipykernel_launcher.py:1: SettingWithCopyWarning: \n",
      "A value is trying to be set on a copy of a slice from a DataFrame\n",
      "\n",
      "See the caveats in the documentation: https://pandas.pydata.org/pandas-docs/stable/user_guide/indexing.html#returning-a-view-versus-a-copy\n",
      "  \"\"\"Entry point for launching an IPython kernel.\n"
     ]
    },
    {
     "data": {
      "text/html": [
       "<div>\n",
       "<style scoped>\n",
       "    .dataframe tbody tr th:only-of-type {\n",
       "        vertical-align: middle;\n",
       "    }\n",
       "\n",
       "    .dataframe tbody tr th {\n",
       "        vertical-align: top;\n",
       "    }\n",
       "\n",
       "    .dataframe thead th {\n",
       "        text-align: right;\n",
       "    }\n",
       "</style>\n",
       "<table border=\"1\" class=\"dataframe\">\n",
       "  <thead>\n",
       "    <tr style=\"text-align: right;\">\n",
       "      <th></th>\n",
       "      <th>PassengerId</th>\n",
       "      <th>Survived</th>\n",
       "      <th>Pclass</th>\n",
       "      <th>Name</th>\n",
       "      <th>Sex</th>\n",
       "      <th>Age</th>\n",
       "      <th>SibSp</th>\n",
       "      <th>Parch</th>\n",
       "      <th>Ticket</th>\n",
       "      <th>Fare</th>\n",
       "      <th>Cabin</th>\n",
       "      <th>Embarked</th>\n",
       "    </tr>\n",
       "  </thead>\n",
       "  <tbody>\n",
       "    <tr>\n",
       "      <th>413</th>\n",
       "      <td>1305</td>\n",
       "      <td>0.0</td>\n",
       "      <td>3</td>\n",
       "      <td>Spector, Mr. Woolf</td>\n",
       "      <td>male</td>\n",
       "      <td>NaN</td>\n",
       "      <td>0</td>\n",
       "      <td>0</td>\n",
       "      <td>A.5. 3236</td>\n",
       "      <td>8.0500</td>\n",
       "      <td>NaN</td>\n",
       "      <td>S</td>\n",
       "    </tr>\n",
       "    <tr>\n",
       "      <th>414</th>\n",
       "      <td>1306</td>\n",
       "      <td>0.0</td>\n",
       "      <td>1</td>\n",
       "      <td>Oliva y Ocana, Dona. Fermina</td>\n",
       "      <td>female</td>\n",
       "      <td>39.0</td>\n",
       "      <td>0</td>\n",
       "      <td>0</td>\n",
       "      <td>PC 17758</td>\n",
       "      <td>108.9000</td>\n",
       "      <td>C105</td>\n",
       "      <td>C</td>\n",
       "    </tr>\n",
       "    <tr>\n",
       "      <th>415</th>\n",
       "      <td>1307</td>\n",
       "      <td>0.0</td>\n",
       "      <td>3</td>\n",
       "      <td>Saether, Mr. Simon Sivertsen</td>\n",
       "      <td>male</td>\n",
       "      <td>38.5</td>\n",
       "      <td>0</td>\n",
       "      <td>0</td>\n",
       "      <td>SOTON/O.Q. 3101262</td>\n",
       "      <td>7.2500</td>\n",
       "      <td>NaN</td>\n",
       "      <td>S</td>\n",
       "    </tr>\n",
       "    <tr>\n",
       "      <th>416</th>\n",
       "      <td>1308</td>\n",
       "      <td>0.0</td>\n",
       "      <td>3</td>\n",
       "      <td>Ware, Mr. Frederick</td>\n",
       "      <td>male</td>\n",
       "      <td>NaN</td>\n",
       "      <td>0</td>\n",
       "      <td>0</td>\n",
       "      <td>359309</td>\n",
       "      <td>8.0500</td>\n",
       "      <td>NaN</td>\n",
       "      <td>S</td>\n",
       "    </tr>\n",
       "    <tr>\n",
       "      <th>417</th>\n",
       "      <td>1309</td>\n",
       "      <td>0.0</td>\n",
       "      <td>3</td>\n",
       "      <td>Peter, Master. Michael J</td>\n",
       "      <td>male</td>\n",
       "      <td>NaN</td>\n",
       "      <td>1</td>\n",
       "      <td>1</td>\n",
       "      <td>2668</td>\n",
       "      <td>22.3583</td>\n",
       "      <td>NaN</td>\n",
       "      <td>C</td>\n",
       "    </tr>\n",
       "  </tbody>\n",
       "</table>\n",
       "</div>"
      ],
      "text/plain": [
       "     PassengerId  Survived  Pclass                          Name     Sex  \\\n",
       "413         1305       0.0       3            Spector, Mr. Woolf    male   \n",
       "414         1306       0.0       1  Oliva y Ocana, Dona. Fermina  female   \n",
       "415         1307       0.0       3  Saether, Mr. Simon Sivertsen    male   \n",
       "416         1308       0.0       3           Ware, Mr. Frederick    male   \n",
       "417         1309       0.0       3      Peter, Master. Michael J    male   \n",
       "\n",
       "      Age  SibSp  Parch              Ticket      Fare Cabin Embarked  \n",
       "413   NaN      0      0           A.5. 3236    8.0500   NaN        S  \n",
       "414  39.0      0      0            PC 17758  108.9000  C105        C  \n",
       "415  38.5      0      0  SOTON/O.Q. 3101262    7.2500   NaN        S  \n",
       "416   NaN      0      0              359309    8.0500   NaN        S  \n",
       "417   NaN      1      1                2668   22.3583   NaN        C  "
      ]
     },
     "execution_count": 8,
     "metadata": {},
     "output_type": "execute_result"
    }
   ],
   "source": [
    "df['Survived'][df['Survived'].isna()] = 0\n",
    "df.tail()"
   ]
  },
  {
   "cell_type": "code",
   "execution_count": 9,
   "id": "1779e1fe",
   "metadata": {
    "execution": {
     "iopub.execute_input": "2023-01-31T22:30:51.527397Z",
     "iopub.status.busy": "2023-01-31T22:30:51.527006Z",
     "iopub.status.idle": "2023-01-31T22:30:51.538957Z",
     "shell.execute_reply": "2023-01-31T22:30:51.537671Z"
    },
    "papermill": {
     "duration": 0.026716,
     "end_time": "2023-01-31T22:30:51.541289",
     "exception": false,
     "start_time": "2023-01-31T22:30:51.514573",
     "status": "completed"
    },
    "tags": []
   },
   "outputs": [
    {
     "data": {
      "text/plain": [
       "PassengerId       0\n",
       "Survived          0\n",
       "Pclass            0\n",
       "Name              0\n",
       "Sex               0\n",
       "Age             263\n",
       "SibSp             0\n",
       "Parch             0\n",
       "Ticket            0\n",
       "Fare              1\n",
       "Cabin          1014\n",
       "Embarked          2\n",
       "dtype: int64"
      ]
     },
     "execution_count": 9,
     "metadata": {},
     "output_type": "execute_result"
    }
   ],
   "source": [
    "df.isna().sum()"
   ]
  },
  {
   "cell_type": "markdown",
   "id": "efcbccbe",
   "metadata": {
    "papermill": {
     "duration": 0.011621,
     "end_time": "2023-01-31T22:30:51.564090",
     "exception": false,
     "start_time": "2023-01-31T22:30:51.552469",
     "status": "completed"
    },
    "tags": []
   },
   "source": [
    "### Feature Engeneering"
   ]
  },
  {
   "cell_type": "code",
   "execution_count": 10,
   "id": "eca41364",
   "metadata": {
    "execution": {
     "iopub.execute_input": "2023-01-31T22:30:51.589363Z",
     "iopub.status.busy": "2023-01-31T22:30:51.588966Z",
     "iopub.status.idle": "2023-01-31T22:30:51.613676Z",
     "shell.execute_reply": "2023-01-31T22:30:51.612428Z"
    },
    "papermill": {
     "duration": 0.039837,
     "end_time": "2023-01-31T22:30:51.616000",
     "exception": false,
     "start_time": "2023-01-31T22:30:51.576163",
     "status": "completed"
    },
    "tags": []
   },
   "outputs": [
    {
     "data": {
      "text/html": [
       "<div>\n",
       "<style scoped>\n",
       "    .dataframe tbody tr th:only-of-type {\n",
       "        vertical-align: middle;\n",
       "    }\n",
       "\n",
       "    .dataframe tbody tr th {\n",
       "        vertical-align: top;\n",
       "    }\n",
       "\n",
       "    .dataframe thead th {\n",
       "        text-align: right;\n",
       "    }\n",
       "</style>\n",
       "<table border=\"1\" class=\"dataframe\">\n",
       "  <thead>\n",
       "    <tr style=\"text-align: right;\">\n",
       "      <th></th>\n",
       "      <th>PassengerId</th>\n",
       "      <th>Survived</th>\n",
       "      <th>Pclass</th>\n",
       "      <th>Name</th>\n",
       "      <th>Sex</th>\n",
       "      <th>Age</th>\n",
       "      <th>SibSp</th>\n",
       "      <th>Parch</th>\n",
       "      <th>Ticket</th>\n",
       "      <th>Fare</th>\n",
       "      <th>Cabin</th>\n",
       "      <th>Embarked</th>\n",
       "      <th>Title</th>\n",
       "    </tr>\n",
       "  </thead>\n",
       "  <tbody>\n",
       "    <tr>\n",
       "      <th>0</th>\n",
       "      <td>1</td>\n",
       "      <td>0.0</td>\n",
       "      <td>3</td>\n",
       "      <td>Braund, Mr. Owen Harris</td>\n",
       "      <td>male</td>\n",
       "      <td>22.0</td>\n",
       "      <td>1</td>\n",
       "      <td>0</td>\n",
       "      <td>A/5 21171</td>\n",
       "      <td>7.2500</td>\n",
       "      <td>NaN</td>\n",
       "      <td>S</td>\n",
       "      <td>Mr</td>\n",
       "    </tr>\n",
       "    <tr>\n",
       "      <th>1</th>\n",
       "      <td>2</td>\n",
       "      <td>1.0</td>\n",
       "      <td>1</td>\n",
       "      <td>Cumings, Mrs. John Bradley (Florence Briggs Th...</td>\n",
       "      <td>female</td>\n",
       "      <td>38.0</td>\n",
       "      <td>1</td>\n",
       "      <td>0</td>\n",
       "      <td>PC 17599</td>\n",
       "      <td>71.2833</td>\n",
       "      <td>C85</td>\n",
       "      <td>C</td>\n",
       "      <td>Mrs</td>\n",
       "    </tr>\n",
       "    <tr>\n",
       "      <th>2</th>\n",
       "      <td>3</td>\n",
       "      <td>1.0</td>\n",
       "      <td>3</td>\n",
       "      <td>Heikkinen, Miss. Laina</td>\n",
       "      <td>female</td>\n",
       "      <td>26.0</td>\n",
       "      <td>0</td>\n",
       "      <td>0</td>\n",
       "      <td>STON/O2. 3101282</td>\n",
       "      <td>7.9250</td>\n",
       "      <td>NaN</td>\n",
       "      <td>S</td>\n",
       "      <td>Miss</td>\n",
       "    </tr>\n",
       "    <tr>\n",
       "      <th>3</th>\n",
       "      <td>4</td>\n",
       "      <td>1.0</td>\n",
       "      <td>1</td>\n",
       "      <td>Futrelle, Mrs. Jacques Heath (Lily May Peel)</td>\n",
       "      <td>female</td>\n",
       "      <td>35.0</td>\n",
       "      <td>1</td>\n",
       "      <td>0</td>\n",
       "      <td>113803</td>\n",
       "      <td>53.1000</td>\n",
       "      <td>C123</td>\n",
       "      <td>S</td>\n",
       "      <td>Mrs</td>\n",
       "    </tr>\n",
       "    <tr>\n",
       "      <th>4</th>\n",
       "      <td>5</td>\n",
       "      <td>0.0</td>\n",
       "      <td>3</td>\n",
       "      <td>Allen, Mr. William Henry</td>\n",
       "      <td>male</td>\n",
       "      <td>35.0</td>\n",
       "      <td>0</td>\n",
       "      <td>0</td>\n",
       "      <td>373450</td>\n",
       "      <td>8.0500</td>\n",
       "      <td>NaN</td>\n",
       "      <td>S</td>\n",
       "      <td>Mr</td>\n",
       "    </tr>\n",
       "  </tbody>\n",
       "</table>\n",
       "</div>"
      ],
      "text/plain": [
       "   PassengerId  Survived  Pclass  \\\n",
       "0            1       0.0       3   \n",
       "1            2       1.0       1   \n",
       "2            3       1.0       3   \n",
       "3            4       1.0       1   \n",
       "4            5       0.0       3   \n",
       "\n",
       "                                                Name     Sex   Age  SibSp  \\\n",
       "0                            Braund, Mr. Owen Harris    male  22.0      1   \n",
       "1  Cumings, Mrs. John Bradley (Florence Briggs Th...  female  38.0      1   \n",
       "2                             Heikkinen, Miss. Laina  female  26.0      0   \n",
       "3       Futrelle, Mrs. Jacques Heath (Lily May Peel)  female  35.0      1   \n",
       "4                           Allen, Mr. William Henry    male  35.0      0   \n",
       "\n",
       "   Parch            Ticket     Fare Cabin Embarked Title  \n",
       "0      0         A/5 21171   7.2500   NaN        S    Mr  \n",
       "1      0          PC 17599  71.2833   C85        C   Mrs  \n",
       "2      0  STON/O2. 3101282   7.9250   NaN        S  Miss  \n",
       "3      0            113803  53.1000  C123        S   Mrs  \n",
       "4      0            373450   8.0500   NaN        S    Mr  "
      ]
     },
     "execution_count": 10,
     "metadata": {},
     "output_type": "execute_result"
    }
   ],
   "source": [
    "df['Title'] = df['Name'].str.extract('([A-Za-z]+)\\.')\n",
    "df.head()"
   ]
  },
  {
   "cell_type": "code",
   "execution_count": 11,
   "id": "c4a43171",
   "metadata": {
    "execution": {
     "iopub.execute_input": "2023-01-31T22:30:51.640884Z",
     "iopub.status.busy": "2023-01-31T22:30:51.640400Z",
     "iopub.status.idle": "2023-01-31T22:30:51.649938Z",
     "shell.execute_reply": "2023-01-31T22:30:51.648756Z"
    },
    "papermill": {
     "duration": 0.024847,
     "end_time": "2023-01-31T22:30:51.652419",
     "exception": false,
     "start_time": "2023-01-31T22:30:51.627572",
     "status": "completed"
    },
    "tags": []
   },
   "outputs": [],
   "source": [
    "# Replace NA value by 'Age' mean, 'Embarked' mode and 'Fare' mean.\n",
    "df['Age'].fillna(train['Age'].mean(), inplace = True)\n",
    "df['Embarked'].fillna(train['Embarked'].mode()[0], inplace = True)\n",
    "df['Fare'].fillna(train['Fare'].mean(), inplace = True)"
   ]
  },
  {
   "cell_type": "code",
   "execution_count": 12,
   "id": "daaa3786",
   "metadata": {
    "execution": {
     "iopub.execute_input": "2023-01-31T22:30:51.677368Z",
     "iopub.status.busy": "2023-01-31T22:30:51.676419Z",
     "iopub.status.idle": "2023-01-31T22:30:51.688081Z",
     "shell.execute_reply": "2023-01-31T22:30:51.687055Z"
    },
    "papermill": {
     "duration": 0.026488,
     "end_time": "2023-01-31T22:30:51.690341",
     "exception": false,
     "start_time": "2023-01-31T22:30:51.663853",
     "status": "completed"
    },
    "tags": []
   },
   "outputs": [
    {
     "data": {
      "text/plain": [
       "PassengerId       0\n",
       "Survived          0\n",
       "Pclass            0\n",
       "Name              0\n",
       "Sex               0\n",
       "Age               0\n",
       "SibSp             0\n",
       "Parch             0\n",
       "Ticket            0\n",
       "Fare              0\n",
       "Cabin          1014\n",
       "Embarked          0\n",
       "Title             0\n",
       "dtype: int64"
      ]
     },
     "execution_count": 12,
     "metadata": {},
     "output_type": "execute_result"
    }
   ],
   "source": [
    "# 'Cabin' still needs to be adjusted.\n",
    "# We decided to delete this feature, since there are too many null values.\n",
    "df.isna().sum()"
   ]
  },
  {
   "cell_type": "code",
   "execution_count": 13,
   "id": "09ad2c78",
   "metadata": {
    "execution": {
     "iopub.execute_input": "2023-01-31T22:30:51.715295Z",
     "iopub.status.busy": "2023-01-31T22:30:51.714904Z",
     "iopub.status.idle": "2023-01-31T22:30:51.722576Z",
     "shell.execute_reply": "2023-01-31T22:30:51.721576Z"
    },
    "papermill": {
     "duration": 0.023231,
     "end_time": "2023-01-31T22:30:51.725202",
     "exception": false,
     "start_time": "2023-01-31T22:30:51.701971",
     "status": "completed"
    },
    "tags": []
   },
   "outputs": [],
   "source": [
    "# Drop \"PassengerId\", \"Name\", \"Ticket\",\"Cabin\" columns.\n",
    "df.drop([\"PassengerId\", \"Name\", \"Ticket\",\"Cabin\"], axis=1, inplace=True)"
   ]
  },
  {
   "cell_type": "markdown",
   "id": "11baf481",
   "metadata": {
    "papermill": {
     "duration": 0.011319,
     "end_time": "2023-01-31T22:30:51.748739",
     "exception": false,
     "start_time": "2023-01-31T22:30:51.737420",
     "status": "completed"
    },
    "tags": []
   },
   "source": [
    "### Data Visualization"
   ]
  },
  {
   "cell_type": "code",
   "execution_count": 14,
   "id": "49eb271d",
   "metadata": {
    "execution": {
     "iopub.execute_input": "2023-01-31T22:30:51.774170Z",
     "iopub.status.busy": "2023-01-31T22:30:51.773563Z",
     "iopub.status.idle": "2023-01-31T22:30:51.917891Z",
     "shell.execute_reply": "2023-01-31T22:30:51.916214Z"
    },
    "papermill": {
     "duration": 0.161778,
     "end_time": "2023-01-31T22:30:51.922278",
     "exception": false,
     "start_time": "2023-01-31T22:30:51.760500",
     "status": "completed"
    },
    "tags": []
   },
   "outputs": [
    {
     "data": {
      "image/png": "[encoded data removed]",
      "text/plain": [
       "<Figure size 720x360 with 1 Axes>"
      ]
     },
     "metadata": {},
     "output_type": "display_data"
    }
   ],
   "source": [
    "values = df['Survived'][0:891].value_counts() # Count the unique values of 'Survided' column\n",
    "labels = df['Survived'][0:891].unique() # Extract unique values of 'Survided' column (0 and 1)\n",
    "\n",
    "# Pie Chart: 0 for Died and 1 for Survived\n",
    "fig, ax = plt.subplots(figsize = (10,5))\n",
    "ax.pie(values, labels=labels, autopct='%1.2f%%')\n",
    "plt.show()"
   ]
  },
  {
   "cell_type": "code",
   "execution_count": 15,
   "id": "c9d35901",
   "metadata": {
    "execution": {
     "iopub.execute_input": "2023-01-31T22:30:51.990143Z",
     "iopub.status.busy": "2023-01-31T22:30:51.988784Z",
     "iopub.status.idle": "2023-01-31T22:30:53.160229Z",
     "shell.execute_reply": "2023-01-31T22:30:53.159428Z"
    },
    "papermill": {
     "duration": 1.20698,
     "end_time": "2023-01-31T22:30:53.162584",
     "exception": false,
     "start_time": "2023-01-31T22:30:51.955604",
     "status": "completed"
    },
    "tags": []
   },
   "outputs": [
    {
     "data": {
      "image/png": "[encoded data removed]",
      "text/plain": [
       "<Figure size 1440x720 with 6 Axes>"
      ]
     },
     "metadata": {
      "needs_background": "light"
     },
     "output_type": "display_data"
    }
   ],
   "source": [
    "fig, axs = plt.subplots(2, 3, figsize = (20,10))\n",
    "sns.countplot(ax=axs[0, 0], x=df['Pclass'], hue=df['Survived'])\n",
    "sns.countplot(ax=axs[0, 1], x=df['Sex'], hue=df['Survived'])\n",
    "sns.countplot(ax=axs[0, 2], x=df['Embarked'], hue=df['Survived'])\n",
    "sns.countplot(ax=axs[1, 0], x=df['SibSp'], hue=df['Survived'])\n",
    "sns.countplot(ax=axs[1, 1], x=df['Parch'], hue=df['Survived'])\n",
    "sns.countplot(ax=axs[1, 2], x=df['Title'], hue=df['Survived'])\n",
    "plt.show()"
   ]
  },
  {
   "cell_type": "code",
   "execution_count": 16,
   "id": "aa3a4a48",
   "metadata": {
    "execution": {
     "iopub.execute_input": "2023-01-31T22:30:53.189725Z",
     "iopub.status.busy": "2023-01-31T22:30:53.189104Z",
     "iopub.status.idle": "2023-01-31T22:30:53.511475Z",
     "shell.execute_reply": "2023-01-31T22:30:53.510608Z"
    },
    "papermill": {
     "duration": 0.338854,
     "end_time": "2023-01-31T22:30:53.513838",
     "exception": false,
     "start_time": "2023-01-31T22:30:53.174984",
     "status": "completed"
    },
    "tags": []
   },
   "outputs": [
    {
     "data": {
      "image/png": "[encoded data removed]",
      "text/plain": [
       "<Figure size 720x360 with 2 Axes>"
      ]
     },
     "metadata": {
      "needs_background": "light"
     },
     "output_type": "display_data"
    }
   ],
   "source": [
    "fig, axs = plt.subplots(2,1, figsize=(10,5))\n",
    "axs[0].hist(df['Fare'], 10)\n",
    "axs[1].hist(df['Age'], 10)\n",
    "plt.show()"
   ]
  },
  {
   "cell_type": "markdown",
   "id": "a3ff4c9c",
   "metadata": {
    "papermill": {
     "duration": 0.012007,
     "end_time": "2023-01-31T22:30:53.538534",
     "exception": false,
     "start_time": "2023-01-31T22:30:53.526527",
     "status": "completed"
    },
    "tags": []
   },
   "source": [
    "### One Hot Encoding"
   ]
  },
  {
   "cell_type": "code",
   "execution_count": 17,
   "id": "43ca704e",
   "metadata": {
    "execution": {
     "iopub.execute_input": "2023-01-31T22:30:53.566322Z",
     "iopub.status.busy": "2023-01-31T22:30:53.565720Z",
     "iopub.status.idle": "2023-01-31T22:30:53.594475Z",
     "shell.execute_reply": "2023-01-31T22:30:53.593079Z"
    },
    "papermill": {
     "duration": 0.046071,
     "end_time": "2023-01-31T22:30:53.597027",
     "exception": false,
     "start_time": "2023-01-31T22:30:53.550956",
     "status": "completed"
    },
    "tags": []
   },
   "outputs": [
    {
     "data": {
      "text/html": [
       "<div>\n",
       "<style scoped>\n",
       "    .dataframe tbody tr th:only-of-type {\n",
       "        vertical-align: middle;\n",
       "    }\n",
       "\n",
       "    .dataframe tbody tr th {\n",
       "        vertical-align: top;\n",
       "    }\n",
       "\n",
       "    .dataframe thead th {\n",
       "        text-align: right;\n",
       "    }\n",
       "</style>\n",
       "<table border=\"1\" class=\"dataframe\">\n",
       "  <thead>\n",
       "    <tr style=\"text-align: right;\">\n",
       "      <th></th>\n",
       "      <th>Survived</th>\n",
       "      <th>Pclass</th>\n",
       "      <th>Age</th>\n",
       "      <th>SibSp</th>\n",
       "      <th>Parch</th>\n",
       "      <th>Fare</th>\n",
       "      <th>Sex_male</th>\n",
       "      <th>Embarked_Q</th>\n",
       "      <th>Embarked_S</th>\n",
       "      <th>Title_Col</th>\n",
       "      <th>...</th>\n",
       "      <th>Title_Major</th>\n",
       "      <th>Title_Master</th>\n",
       "      <th>Title_Miss</th>\n",
       "      <th>Title_Mlle</th>\n",
       "      <th>Title_Mme</th>\n",
       "      <th>Title_Mr</th>\n",
       "      <th>Title_Mrs</th>\n",
       "      <th>Title_Ms</th>\n",
       "      <th>Title_Rev</th>\n",
       "      <th>Title_Sir</th>\n",
       "    </tr>\n",
       "  </thead>\n",
       "  <tbody>\n",
       "    <tr>\n",
       "      <th>0</th>\n",
       "      <td>0.0</td>\n",
       "      <td>3</td>\n",
       "      <td>22.0</td>\n",
       "      <td>1</td>\n",
       "      <td>0</td>\n",
       "      <td>7.2500</td>\n",
       "      <td>1</td>\n",
       "      <td>0</td>\n",
       "      <td>1</td>\n",
       "      <td>0</td>\n",
       "      <td>...</td>\n",
       "      <td>0</td>\n",
       "      <td>0</td>\n",
       "      <td>0</td>\n",
       "      <td>0</td>\n",
       "      <td>0</td>\n",
       "      <td>1</td>\n",
       "      <td>0</td>\n",
       "      <td>0</td>\n",
       "      <td>0</td>\n",
       "      <td>0</td>\n",
       "    </tr>\n",
       "    <tr>\n",
       "      <th>1</th>\n",
       "      <td>1.0</td>\n",
       "      <td>1</td>\n",
       "      <td>38.0</td>\n",
       "      <td>1</td>\n",
       "      <td>0</td>\n",
       "      <td>71.2833</td>\n",
       "      <td>0</td>\n",
       "      <td>0</td>\n",
       "      <td>0</td>\n",
       "      <td>0</td>\n",
       "      <td>...</td>\n",
       "      <td>0</td>\n",
       "      <td>0</td>\n",
       "      <td>0</td>\n",
       "      <td>0</td>\n",
       "      <td>0</td>\n",
       "      <td>0</td>\n",
       "      <td>1</td>\n",
       "      <td>0</td>\n",
       "      <td>0</td>\n",
       "      <td>0</td>\n",
       "    </tr>\n",
       "    <tr>\n",
       "      <th>2</th>\n",
       "      <td>1.0</td>\n",
       "      <td>3</td>\n",
       "      <td>26.0</td>\n",
       "      <td>0</td>\n",
       "      <td>0</td>\n",
       "      <td>7.9250</td>\n",
       "      <td>0</td>\n",
       "      <td>0</td>\n",
       "      <td>1</td>\n",
       "      <td>0</td>\n",
       "      <td>...</td>\n",
       "      <td>0</td>\n",
       "      <td>0</td>\n",
       "      <td>1</td>\n",
       "      <td>0</td>\n",
       "      <td>0</td>\n",
       "      <td>0</td>\n",
       "      <td>0</td>\n",
       "      <td>0</td>\n",
       "      <td>0</td>\n",
       "      <td>0</td>\n",
       "    </tr>\n",
       "    <tr>\n",
       "      <th>3</th>\n",
       "      <td>1.0</td>\n",
       "      <td>1</td>\n",
       "      <td>35.0</td>\n",
       "      <td>1</td>\n",
       "      <td>0</td>\n",
       "      <td>53.1000</td>\n",
       "      <td>0</td>\n",
       "      <td>0</td>\n",
       "      <td>1</td>\n",
       "      <td>0</td>\n",
       "      <td>...</td>\n",
       "      <td>0</td>\n",
       "      <td>0</td>\n",
       "      <td>0</td>\n",
       "      <td>0</td>\n",
       "      <td>0</td>\n",
       "      <td>0</td>\n",
       "      <td>1</td>\n",
       "      <td>0</td>\n",
       "      <td>0</td>\n",
       "      <td>0</td>\n",
       "    </tr>\n",
       "    <tr>\n",
       "      <th>4</th>\n",
       "      <td>0.0</td>\n",
       "      <td>3</td>\n",
       "      <td>35.0</td>\n",
       "      <td>0</td>\n",
       "      <td>0</td>\n",
       "      <td>8.0500</td>\n",
       "      <td>1</td>\n",
       "      <td>0</td>\n",
       "      <td>1</td>\n",
       "      <td>0</td>\n",
       "      <td>...</td>\n",
       "      <td>0</td>\n",
       "      <td>0</td>\n",
       "      <td>0</td>\n",
       "      <td>0</td>\n",
       "      <td>0</td>\n",
       "      <td>1</td>\n",
       "      <td>0</td>\n",
       "      <td>0</td>\n",
       "      <td>0</td>\n",
       "      <td>0</td>\n",
       "    </tr>\n",
       "  </tbody>\n",
       "</table>\n",
       "<p>5 rows × 26 columns</p>\n",
       "</div>"
      ],
      "text/plain": [
       "   Survived  Pclass   Age  SibSp  Parch     Fare  Sex_male  Embarked_Q  \\\n",
       "0       0.0       3  22.0      1      0   7.2500         1           0   \n",
       "1       1.0       1  38.0      1      0  71.2833         0           0   \n",
       "2       1.0       3  26.0      0      0   7.9250         0           0   \n",
       "3       1.0       1  35.0      1      0  53.1000         0           0   \n",
       "4       0.0       3  35.0      0      0   8.0500         1           0   \n",
       "\n",
       "   Embarked_S  Title_Col  ...  Title_Major  Title_Master  Title_Miss  \\\n",
       "0           1          0  ...            0             0           0   \n",
       "1           0          0  ...            0             0           0   \n",
       "2           1          0  ...            0             0           1   \n",
       "3           1          0  ...            0             0           0   \n",
       "4           1          0  ...            0             0           0   \n",
       "\n",
       "   Title_Mlle  Title_Mme  Title_Mr  Title_Mrs  Title_Ms  Title_Rev  Title_Sir  \n",
       "0           0          0         1          0         0          0          0  \n",
       "1           0          0         0          1         0          0          0  \n",
       "2           0          0         0          0         0          0          0  \n",
       "3           0          0         0          1         0          0          0  \n",
       "4           0          0         1          0         0          0          0  \n",
       "\n",
       "[5 rows x 26 columns]"
      ]
     },
     "execution_count": 17,
     "metadata": {},
     "output_type": "execute_result"
    }
   ],
   "source": [
    "df = pd.get_dummies(df, drop_first=True)\n",
    "df.head()"
   ]
  },
  {
   "cell_type": "code",
   "execution_count": 18,
   "id": "e61892ca",
   "metadata": {
    "execution": {
     "iopub.execute_input": "2023-01-31T22:30:53.626588Z",
     "iopub.status.busy": "2023-01-31T22:30:53.626119Z",
     "iopub.status.idle": "2023-01-31T22:30:53.633135Z",
     "shell.execute_reply": "2023-01-31T22:30:53.631993Z"
    },
    "papermill": {
     "duration": 0.024923,
     "end_time": "2023-01-31T22:30:53.635881",
     "exception": false,
     "start_time": "2023-01-31T22:30:53.610958",
     "status": "completed"
    },
    "tags": []
   },
   "outputs": [
    {
     "data": {
      "text/plain": [
       "(1309, 26)"
      ]
     },
     "execution_count": 18,
     "metadata": {},
     "output_type": "execute_result"
    }
   ],
   "source": [
    "df.shape"
   ]
  },
  {
   "cell_type": "markdown",
   "id": "3da02e17",
   "metadata": {
    "papermill": {
     "duration": 0.012567,
     "end_time": "2023-01-31T22:30:53.661638",
     "exception": false,
     "start_time": "2023-01-31T22:30:53.649071",
     "status": "completed"
    },
    "tags": []
   },
   "source": [
    "# Model"
   ]
  },
  {
   "cell_type": "code",
   "execution_count": 19,
   "id": "d0af3368",
   "metadata": {
    "execution": {
     "iopub.execute_input": "2023-01-31T22:30:53.689042Z",
     "iopub.status.busy": "2023-01-31T22:30:53.688604Z",
     "iopub.status.idle": "2023-01-31T22:30:53.697385Z",
     "shell.execute_reply": "2023-01-31T22:30:53.695964Z"
    },
    "papermill": {
     "duration": 0.025456,
     "end_time": "2023-01-31T22:30:53.699897",
     "exception": false,
     "start_time": "2023-01-31T22:30:53.674441",
     "status": "completed"
    },
    "tags": []
   },
   "outputs": [],
   "source": [
    "# Split features and labels.\n",
    "X = df[0:891].drop('Survived', axis=1)\n",
    "Y = df['Survived'][0:891]"
   ]
  },
  {
   "cell_type": "code",
   "execution_count": 20,
   "id": "0ff60d3f",
   "metadata": {
    "execution": {
     "iopub.execute_input": "2023-01-31T22:30:53.730328Z",
     "iopub.status.busy": "2023-01-31T22:30:53.729740Z",
     "iopub.status.idle": "2023-01-31T22:30:53.737366Z",
     "shell.execute_reply": "2023-01-31T22:30:53.736081Z"
    },
    "papermill": {
     "duration": 0.026975,
     "end_time": "2023-01-31T22:30:53.740741",
     "exception": false,
     "start_time": "2023-01-31T22:30:53.713766",
     "status": "completed"
    },
    "tags": []
   },
   "outputs": [
    {
     "name": "stdout",
     "output_type": "stream",
     "text": [
      "(891, 25)\n",
      "(891,)\n"
     ]
    }
   ],
   "source": [
    "print(X.shape)\n",
    "print(Y.shape)"
   ]
  },
  {
   "cell_type": "code",
   "execution_count": 21,
   "id": "11e688f8",
   "metadata": {
    "execution": {
     "iopub.execute_input": "2023-01-31T22:30:53.771427Z",
     "iopub.status.busy": "2023-01-31T22:30:53.770249Z",
     "iopub.status.idle": "2023-01-31T22:30:53.778850Z",
     "shell.execute_reply": "2023-01-31T22:30:53.777888Z"
    },
    "papermill": {
     "duration": 0.026015,
     "end_time": "2023-01-31T22:30:53.781228",
     "exception": false,
     "start_time": "2023-01-31T22:30:53.755213",
     "status": "completed"
    },
    "tags": []
   },
   "outputs": [],
   "source": [
    "# Split Train ans Test for modeling.\n",
    "x_train, x_test, y_train, y_test = train_test_split(X, Y, test_size=0.2, random_state=4)"
   ]
  },
  {
   "cell_type": "code",
   "execution_count": 22,
   "id": "1534a7a4",
   "metadata": {
    "execution": {
     "iopub.execute_input": "2023-01-31T22:30:53.810173Z",
     "iopub.status.busy": "2023-01-31T22:30:53.809358Z",
     "iopub.status.idle": "2023-01-31T22:30:53.815395Z",
     "shell.execute_reply": "2023-01-31T22:30:53.814552Z"
    },
    "papermill": {
     "duration": 0.022734,
     "end_time": "2023-01-31T22:30:53.817701",
     "exception": false,
     "start_time": "2023-01-31T22:30:53.794967",
     "status": "completed"
    },
    "tags": []
   },
   "outputs": [],
   "source": [
    "# Create a list of models we intend to \n",
    "models = [('Logistic Regression', LogisticRegression()),\n",
    "         ('KNN', KNeighborsClassifier()),\n",
    "         ('Decision Tree', DecisionTreeClassifier()),\n",
    "         ('Random Forest', RandomForestClassifier()),\n",
    "         ('Ada Boost', AdaBoostClassifier()),\n",
    "         ('XGB', XGBClassifier()),\n",
    "         ('Support Vector', SVC()),\n",
    "         ('Gaussian Naive Bayes', GaussianNB())]"
   ]
  },
  {
   "cell_type": "code",
   "execution_count": 23,
   "id": "429fbd54",
   "metadata": {
    "execution": {
     "iopub.execute_input": "2023-01-31T22:30:53.847351Z",
     "iopub.status.busy": "2023-01-31T22:30:53.846750Z",
     "iopub.status.idle": "2023-01-31T22:30:54.977315Z",
     "shell.execute_reply": "2023-01-31T22:30:54.975440Z"
    },
    "papermill": {
     "duration": 1.149182,
     "end_time": "2023-01-31T22:30:54.980393",
     "exception": false,
     "start_time": "2023-01-31T22:30:53.831211",
     "status": "completed"
    },
    "tags": []
   },
   "outputs": [
    {
     "name": "stderr",
     "output_type": "stream",
     "text": [
      "/opt/conda/lib/python3.7/site-packages/sklearn/linear_model/_logistic.py:818: ConvergenceWarning: lbfgs failed to converge (status=1):\n",
      "STOP: TOTAL NO. of ITERATIONS REACHED LIMIT.\n",
      "\n",
      "Increase the number of iterations (max_iter) or scale the data as shown in:\n",
      "    https://scikit-learn.org/stable/modules/preprocessing.html\n",
      "Please also refer to the documentation for alternative solver options:\n",
      "    https://scikit-learn.org/stable/modules/linear_model.html#logistic-regression\n",
      "  extra_warning_msg=_LOGISTIC_SOLVER_CONVERGENCE_MSG,\n"
     ]
    },
    {
     "name": "stdout",
     "output_type": "stream",
     "text": [
      "Logistic Regression Train Accuracy: 0.8230337078651685 \n",
      "Logistic Regression Test Accuracy: 0.8659217877094972 \n",
      "\n",
      "KNN Train Accuracy: 0.8033707865168539 \n",
      "KNN Test Accuracy: 0.7541899441340782 \n",
      "\n",
      "Decision Tree Train Accuracy: 0.9845505617977528 \n",
      "Decision Tree Test Accuracy: 0.8435754189944135 \n",
      "\n",
      "Random Forest Train Accuracy: 0.9845505617977528 \n",
      "Random Forest Test Accuracy: 0.8100558659217877 \n",
      "\n",
      "Ada Boost Train Accuracy: 0.8412921348314607 \n",
      "Ada Boost Test Accuracy: 0.8100558659217877 \n",
      "\n",
      "XGB Train Accuracy: 0.9676966292134831 \n",
      "XGB Test Accuracy: 0.8435754189944135 \n",
      "\n",
      "Support Vector Train Accuracy: 0.6839887640449438 \n",
      "Support Vector Test Accuracy: 0.6983240223463687 \n",
      "\n",
      "Gaussian Naive Bayes Train Accuracy: 0.6657303370786517 \n",
      "Gaussian Naive Bayes Test Accuracy: 0.7094972067039106 \n",
      "\n"
     ]
    }
   ],
   "source": [
    "for name, model in models:\n",
    "    model.fit(x_train, y_train)\n",
    "    y_hat = model.predict(x_train)\n",
    "    Acc_train = accuracy_score(y_train, y_hat)\n",
    "    y_hat2 = model.predict(x_test)\n",
    "    Acc_test = accuracy_score(y_test, y_hat2)\n",
    "    print(f'{name} Train Accuracy: {Acc_train} \\n{name} Test Accuracy: {Acc_test} \\n')"
   ]
  },
  {
   "cell_type": "code",
   "execution_count": 24,
   "id": "68d1d81b",
   "metadata": {
    "execution": {
     "iopub.execute_input": "2023-01-31T22:30:55.010862Z",
     "iopub.status.busy": "2023-01-31T22:30:55.010345Z",
     "iopub.status.idle": "2023-01-31T22:30:55.214289Z",
     "shell.execute_reply": "2023-01-31T22:30:55.213037Z"
    },
    "papermill": {
     "duration": 0.221805,
     "end_time": "2023-01-31T22:30:55.216800",
     "exception": false,
     "start_time": "2023-01-31T22:30:54.994995",
     "status": "completed"
    },
    "tags": []
   },
   "outputs": [
    {
     "data": {
      "text/plain": [
       "RandomForestClassifier()"
      ]
     },
     "execution_count": 24,
     "metadata": {},
     "output_type": "execute_result"
    }
   ],
   "source": [
    "random = RandomForestClassifier()\n",
    "random.fit(x_train, y_train)"
   ]
  },
  {
   "cell_type": "code",
   "execution_count": 25,
   "id": "4284b500",
   "metadata": {
    "execution": {
     "iopub.execute_input": "2023-01-31T22:30:55.247026Z",
     "iopub.status.busy": "2023-01-31T22:30:55.246599Z",
     "iopub.status.idle": "2023-01-31T22:30:55.269034Z",
     "shell.execute_reply": "2023-01-31T22:30:55.267708Z"
    },
    "papermill": {
     "duration": 0.041275,
     "end_time": "2023-01-31T22:30:55.272112",
     "exception": false,
     "start_time": "2023-01-31T22:30:55.230837",
     "status": "completed"
    },
    "tags": []
   },
   "outputs": [
    {
     "data": {
      "text/html": [
       "<div>\n",
       "<style scoped>\n",
       "    .dataframe tbody tr th:only-of-type {\n",
       "        vertical-align: middle;\n",
       "    }\n",
       "\n",
       "    .dataframe tbody tr th {\n",
       "        vertical-align: top;\n",
       "    }\n",
       "\n",
       "    .dataframe thead th {\n",
       "        text-align: right;\n",
       "    }\n",
       "</style>\n",
       "<table border=\"1\" class=\"dataframe\">\n",
       "  <thead>\n",
       "    <tr style=\"text-align: right;\">\n",
       "      <th></th>\n",
       "      <th>Survived</th>\n",
       "      <th>Pclass</th>\n",
       "      <th>Age</th>\n",
       "      <th>SibSp</th>\n",
       "      <th>Parch</th>\n",
       "      <th>Fare</th>\n",
       "      <th>Sex_male</th>\n",
       "      <th>Embarked_Q</th>\n",
       "      <th>Embarked_S</th>\n",
       "      <th>Title_Col</th>\n",
       "      <th>...</th>\n",
       "      <th>Title_Major</th>\n",
       "      <th>Title_Master</th>\n",
       "      <th>Title_Miss</th>\n",
       "      <th>Title_Mlle</th>\n",
       "      <th>Title_Mme</th>\n",
       "      <th>Title_Mr</th>\n",
       "      <th>Title_Mrs</th>\n",
       "      <th>Title_Ms</th>\n",
       "      <th>Title_Rev</th>\n",
       "      <th>Title_Sir</th>\n",
       "    </tr>\n",
       "  </thead>\n",
       "  <tbody>\n",
       "    <tr>\n",
       "      <th>0</th>\n",
       "      <td>0.0</td>\n",
       "      <td>3</td>\n",
       "      <td>34.5</td>\n",
       "      <td>0</td>\n",
       "      <td>0</td>\n",
       "      <td>7.8292</td>\n",
       "      <td>1</td>\n",
       "      <td>1</td>\n",
       "      <td>0</td>\n",
       "      <td>0</td>\n",
       "      <td>...</td>\n",
       "      <td>0</td>\n",
       "      <td>0</td>\n",
       "      <td>0</td>\n",
       "      <td>0</td>\n",
       "      <td>0</td>\n",
       "      <td>1</td>\n",
       "      <td>0</td>\n",
       "      <td>0</td>\n",
       "      <td>0</td>\n",
       "      <td>0</td>\n",
       "    </tr>\n",
       "    <tr>\n",
       "      <th>1</th>\n",
       "      <td>0.0</td>\n",
       "      <td>3</td>\n",
       "      <td>47.0</td>\n",
       "      <td>1</td>\n",
       "      <td>0</td>\n",
       "      <td>7.0000</td>\n",
       "      <td>0</td>\n",
       "      <td>0</td>\n",
       "      <td>1</td>\n",
       "      <td>0</td>\n",
       "      <td>...</td>\n",
       "      <td>0</td>\n",
       "      <td>0</td>\n",
       "      <td>0</td>\n",
       "      <td>0</td>\n",
       "      <td>0</td>\n",
       "      <td>0</td>\n",
       "      <td>1</td>\n",
       "      <td>0</td>\n",
       "      <td>0</td>\n",
       "      <td>0</td>\n",
       "    </tr>\n",
       "    <tr>\n",
       "      <th>2</th>\n",
       "      <td>0.0</td>\n",
       "      <td>2</td>\n",
       "      <td>62.0</td>\n",
       "      <td>0</td>\n",
       "      <td>0</td>\n",
       "      <td>9.6875</td>\n",
       "      <td>1</td>\n",
       "      <td>1</td>\n",
       "      <td>0</td>\n",
       "      <td>0</td>\n",
       "      <td>...</td>\n",
       "      <td>0</td>\n",
       "      <td>0</td>\n",
       "      <td>0</td>\n",
       "      <td>0</td>\n",
       "      <td>0</td>\n",
       "      <td>1</td>\n",
       "      <td>0</td>\n",
       "      <td>0</td>\n",
       "      <td>0</td>\n",
       "      <td>0</td>\n",
       "    </tr>\n",
       "    <tr>\n",
       "      <th>3</th>\n",
       "      <td>0.0</td>\n",
       "      <td>3</td>\n",
       "      <td>27.0</td>\n",
       "      <td>0</td>\n",
       "      <td>0</td>\n",
       "      <td>8.6625</td>\n",
       "      <td>1</td>\n",
       "      <td>0</td>\n",
       "      <td>1</td>\n",
       "      <td>0</td>\n",
       "      <td>...</td>\n",
       "      <td>0</td>\n",
       "      <td>0</td>\n",
       "      <td>0</td>\n",
       "      <td>0</td>\n",
       "      <td>0</td>\n",
       "      <td>1</td>\n",
       "      <td>0</td>\n",
       "      <td>0</td>\n",
       "      <td>0</td>\n",
       "      <td>0</td>\n",
       "    </tr>\n",
       "    <tr>\n",
       "      <th>4</th>\n",
       "      <td>0.0</td>\n",
       "      <td>3</td>\n",
       "      <td>22.0</td>\n",
       "      <td>1</td>\n",
       "      <td>1</td>\n",
       "      <td>12.2875</td>\n",
       "      <td>0</td>\n",
       "      <td>0</td>\n",
       "      <td>1</td>\n",
       "      <td>0</td>\n",
       "      <td>...</td>\n",
       "      <td>0</td>\n",
       "      <td>0</td>\n",
       "      <td>0</td>\n",
       "      <td>0</td>\n",
       "      <td>0</td>\n",
       "      <td>0</td>\n",
       "      <td>1</td>\n",
       "      <td>0</td>\n",
       "      <td>0</td>\n",
       "      <td>0</td>\n",
       "    </tr>\n",
       "  </tbody>\n",
       "</table>\n",
       "<p>5 rows × 26 columns</p>\n",
       "</div>"
      ],
      "text/plain": [
       "   Survived  Pclass   Age  SibSp  Parch     Fare  Sex_male  Embarked_Q  \\\n",
       "0       0.0       3  34.5      0      0   7.8292         1           1   \n",
       "1       0.0       3  47.0      1      0   7.0000         0           0   \n",
       "2       0.0       2  62.0      0      0   9.6875         1           1   \n",
       "3       0.0       3  27.0      0      0   8.6625         1           0   \n",
       "4       0.0       3  22.0      1      1  12.2875         0           0   \n",
       "\n",
       "   Embarked_S  Title_Col  ...  Title_Major  Title_Master  Title_Miss  \\\n",
       "0           0          0  ...            0             0           0   \n",
       "1           1          0  ...            0             0           0   \n",
       "2           0          0  ...            0             0           0   \n",
       "3           1          0  ...            0             0           0   \n",
       "4           1          0  ...            0             0           0   \n",
       "\n",
       "   Title_Mlle  Title_Mme  Title_Mr  Title_Mrs  Title_Ms  Title_Rev  Title_Sir  \n",
       "0           0          0         1          0         0          0          0  \n",
       "1           0          0         0          1         0          0          0  \n",
       "2           0          0         1          0         0          0          0  \n",
       "3           0          0         1          0         0          0          0  \n",
       "4           0          0         0          1         0          0          0  \n",
       "\n",
       "[5 rows x 26 columns]"
      ]
     },
     "execution_count": 25,
     "metadata": {},
     "output_type": "execute_result"
    }
   ],
   "source": [
    "submit = df[891:]\n",
    "submit.head()"
   ]
  },
  {
   "cell_type": "code",
   "execution_count": 26,
   "id": "45c2881d",
   "metadata": {
    "execution": {
     "iopub.execute_input": "2023-01-31T22:30:55.304426Z",
     "iopub.status.busy": "2023-01-31T22:30:55.304015Z",
     "iopub.status.idle": "2023-01-31T22:30:55.318479Z",
     "shell.execute_reply": "2023-01-31T22:30:55.317028Z"
    },
    "papermill": {
     "duration": 0.034586,
     "end_time": "2023-01-31T22:30:55.321190",
     "exception": false,
     "start_time": "2023-01-31T22:30:55.286604",
     "status": "completed"
    },
    "tags": []
   },
   "outputs": [
    {
     "name": "stderr",
     "output_type": "stream",
     "text": [
      "/opt/conda/lib/python3.7/site-packages/pandas/core/frame.py:4913: SettingWithCopyWarning: \n",
      "A value is trying to be set on a copy of a slice from a DataFrame\n",
      "\n",
      "See the caveats in the documentation: https://pandas.pydata.org/pandas-docs/stable/user_guide/indexing.html#returning-a-view-versus-a-copy\n",
      "  errors=errors,\n"
     ]
    }
   ],
   "source": [
    "submit.drop('Survived', axis=1, inplace=True)"
   ]
  },
  {
   "cell_type": "code",
   "execution_count": 27,
   "id": "744777f2",
   "metadata": {
    "execution": {
     "iopub.execute_input": "2023-01-31T22:30:55.351168Z",
     "iopub.status.busy": "2023-01-31T22:30:55.350779Z",
     "iopub.status.idle": "2023-01-31T22:30:55.384166Z",
     "shell.execute_reply": "2023-01-31T22:30:55.382992Z"
    },
    "papermill": {
     "duration": 0.052371,
     "end_time": "2023-01-31T22:30:55.387654",
     "exception": false,
     "start_time": "2023-01-31T22:30:55.335283",
     "status": "completed"
    },
    "tags": []
   },
   "outputs": [
    {
     "name": "stderr",
     "output_type": "stream",
     "text": [
      "/opt/conda/lib/python3.7/site-packages/ipykernel_launcher.py:1: SettingWithCopyWarning: \n",
      "A value is trying to be set on a copy of a slice from a DataFrame.\n",
      "Try using .loc[row_indexer,col_indexer] = value instead\n",
      "\n",
      "See the caveats in the documentation: https://pandas.pydata.org/pandas-docs/stable/user_guide/indexing.html#returning-a-view-versus-a-copy\n",
      "  \"\"\"Entry point for launching an IPython kernel.\n"
     ]
    }
   ],
   "source": [
    "submit['Survived'] = random.predict(submit)"
   ]
  },
  {
   "cell_type": "code",
   "execution_count": 28,
   "id": "38207acd",
   "metadata": {
    "execution": {
     "iopub.execute_input": "2023-01-31T22:30:55.417828Z",
     "iopub.status.busy": "2023-01-31T22:30:55.417369Z",
     "iopub.status.idle": "2023-01-31T22:30:55.442299Z",
     "shell.execute_reply": "2023-01-31T22:30:55.440847Z"
    },
    "papermill": {
     "duration": 0.042945,
     "end_time": "2023-01-31T22:30:55.445135",
     "exception": false,
     "start_time": "2023-01-31T22:30:55.402190",
     "status": "completed"
    },
    "tags": []
   },
   "outputs": [
    {
     "data": {
      "text/html": [
       "<div>\n",
       "<style scoped>\n",
       "    .dataframe tbody tr th:only-of-type {\n",
       "        vertical-align: middle;\n",
       "    }\n",
       "\n",
       "    .dataframe tbody tr th {\n",
       "        vertical-align: top;\n",
       "    }\n",
       "\n",
       "    .dataframe thead th {\n",
       "        text-align: right;\n",
       "    }\n",
       "</style>\n",
       "<table border=\"1\" class=\"dataframe\">\n",
       "  <thead>\n",
       "    <tr style=\"text-align: right;\">\n",
       "      <th></th>\n",
       "      <th>Pclass</th>\n",
       "      <th>Age</th>\n",
       "      <th>SibSp</th>\n",
       "      <th>Parch</th>\n",
       "      <th>Fare</th>\n",
       "      <th>Sex_male</th>\n",
       "      <th>Embarked_Q</th>\n",
       "      <th>Embarked_S</th>\n",
       "      <th>Title_Col</th>\n",
       "      <th>Title_Countess</th>\n",
       "      <th>...</th>\n",
       "      <th>Title_Master</th>\n",
       "      <th>Title_Miss</th>\n",
       "      <th>Title_Mlle</th>\n",
       "      <th>Title_Mme</th>\n",
       "      <th>Title_Mr</th>\n",
       "      <th>Title_Mrs</th>\n",
       "      <th>Title_Ms</th>\n",
       "      <th>Title_Rev</th>\n",
       "      <th>Title_Sir</th>\n",
       "      <th>Survived</th>\n",
       "    </tr>\n",
       "  </thead>\n",
       "  <tbody>\n",
       "    <tr>\n",
       "      <th>0</th>\n",
       "      <td>3</td>\n",
       "      <td>34.5</td>\n",
       "      <td>0</td>\n",
       "      <td>0</td>\n",
       "      <td>7.8292</td>\n",
       "      <td>1</td>\n",
       "      <td>1</td>\n",
       "      <td>0</td>\n",
       "      <td>0</td>\n",
       "      <td>0</td>\n",
       "      <td>...</td>\n",
       "      <td>0</td>\n",
       "      <td>0</td>\n",
       "      <td>0</td>\n",
       "      <td>0</td>\n",
       "      <td>1</td>\n",
       "      <td>0</td>\n",
       "      <td>0</td>\n",
       "      <td>0</td>\n",
       "      <td>0</td>\n",
       "      <td>0.0</td>\n",
       "    </tr>\n",
       "    <tr>\n",
       "      <th>1</th>\n",
       "      <td>3</td>\n",
       "      <td>47.0</td>\n",
       "      <td>1</td>\n",
       "      <td>0</td>\n",
       "      <td>7.0000</td>\n",
       "      <td>0</td>\n",
       "      <td>0</td>\n",
       "      <td>1</td>\n",
       "      <td>0</td>\n",
       "      <td>0</td>\n",
       "      <td>...</td>\n",
       "      <td>0</td>\n",
       "      <td>0</td>\n",
       "      <td>0</td>\n",
       "      <td>0</td>\n",
       "      <td>0</td>\n",
       "      <td>1</td>\n",
       "      <td>0</td>\n",
       "      <td>0</td>\n",
       "      <td>0</td>\n",
       "      <td>0.0</td>\n",
       "    </tr>\n",
       "    <tr>\n",
       "      <th>2</th>\n",
       "      <td>2</td>\n",
       "      <td>62.0</td>\n",
       "      <td>0</td>\n",
       "      <td>0</td>\n",
       "      <td>9.6875</td>\n",
       "      <td>1</td>\n",
       "      <td>1</td>\n",
       "      <td>0</td>\n",
       "      <td>0</td>\n",
       "      <td>0</td>\n",
       "      <td>...</td>\n",
       "      <td>0</td>\n",
       "      <td>0</td>\n",
       "      <td>0</td>\n",
       "      <td>0</td>\n",
       "      <td>1</td>\n",
       "      <td>0</td>\n",
       "      <td>0</td>\n",
       "      <td>0</td>\n",
       "      <td>0</td>\n",
       "      <td>0.0</td>\n",
       "    </tr>\n",
       "    <tr>\n",
       "      <th>3</th>\n",
       "      <td>3</td>\n",
       "      <td>27.0</td>\n",
       "      <td>0</td>\n",
       "      <td>0</td>\n",
       "      <td>8.6625</td>\n",
       "      <td>1</td>\n",
       "      <td>0</td>\n",
       "      <td>1</td>\n",
       "      <td>0</td>\n",
       "      <td>0</td>\n",
       "      <td>...</td>\n",
       "      <td>0</td>\n",
       "      <td>0</td>\n",
       "      <td>0</td>\n",
       "      <td>0</td>\n",
       "      <td>1</td>\n",
       "      <td>0</td>\n",
       "      <td>0</td>\n",
       "      <td>0</td>\n",
       "      <td>0</td>\n",
       "      <td>0.0</td>\n",
       "    </tr>\n",
       "    <tr>\n",
       "      <th>4</th>\n",
       "      <td>3</td>\n",
       "      <td>22.0</td>\n",
       "      <td>1</td>\n",
       "      <td>1</td>\n",
       "      <td>12.2875</td>\n",
       "      <td>0</td>\n",
       "      <td>0</td>\n",
       "      <td>1</td>\n",
       "      <td>0</td>\n",
       "      <td>0</td>\n",
       "      <td>...</td>\n",
       "      <td>0</td>\n",
       "      <td>0</td>\n",
       "      <td>0</td>\n",
       "      <td>0</td>\n",
       "      <td>0</td>\n",
       "      <td>1</td>\n",
       "      <td>0</td>\n",
       "      <td>0</td>\n",
       "      <td>0</td>\n",
       "      <td>1.0</td>\n",
       "    </tr>\n",
       "  </tbody>\n",
       "</table>\n",
       "<p>5 rows × 26 columns</p>\n",
       "</div>"
      ],
      "text/plain": [
       "   Pclass   Age  SibSp  Parch     Fare  Sex_male  Embarked_Q  Embarked_S  \\\n",
       "0       3  34.5      0      0   7.8292         1           1           0   \n",
       "1       3  47.0      1      0   7.0000         0           0           1   \n",
       "2       2  62.0      0      0   9.6875         1           1           0   \n",
       "3       3  27.0      0      0   8.6625         1           0           1   \n",
       "4       3  22.0      1      1  12.2875         0           0           1   \n",
       "\n",
       "   Title_Col  Title_Countess  ...  Title_Master  Title_Miss  Title_Mlle  \\\n",
       "0          0               0  ...             0           0           0   \n",
       "1          0               0  ...             0           0           0   \n",
       "2          0               0  ...             0           0           0   \n",
       "3          0               0  ...             0           0           0   \n",
       "4          0               0  ...             0           0           0   \n",
       "\n",
       "   Title_Mme  Title_Mr  Title_Mrs  Title_Ms  Title_Rev  Title_Sir  Survived  \n",
       "0          0         1          0         0          0          0       0.0  \n",
       "1          0         0          1         0          0          0       0.0  \n",
       "2          0         1          0         0          0          0       0.0  \n",
       "3          0         1          0         0          0          0       0.0  \n",
       "4          0         0          1         0          0          0       1.0  \n",
       "\n",
       "[5 rows x 26 columns]"
      ]
     },
     "execution_count": 28,
     "metadata": {},
     "output_type": "execute_result"
    }
   ],
   "source": [
    "submit.head()"
   ]
  },
  {
   "cell_type": "code",
   "execution_count": 29,
   "id": "fffa7771",
   "metadata": {
    "execution": {
     "iopub.execute_input": "2023-01-31T22:30:55.475709Z",
     "iopub.status.busy": "2023-01-31T22:30:55.475293Z",
     "iopub.status.idle": "2023-01-31T22:30:55.482342Z",
     "shell.execute_reply": "2023-01-31T22:30:55.481165Z"
    },
    "papermill": {
     "duration": 0.024823,
     "end_time": "2023-01-31T22:30:55.484820",
     "exception": false,
     "start_time": "2023-01-31T22:30:55.459997",
     "status": "completed"
    },
    "tags": []
   },
   "outputs": [
    {
     "name": "stderr",
     "output_type": "stream",
     "text": [
      "/opt/conda/lib/python3.7/site-packages/ipykernel_launcher.py:1: SettingWithCopyWarning: \n",
      "A value is trying to be set on a copy of a slice from a DataFrame.\n",
      "Try using .loc[row_indexer,col_indexer] = value instead\n",
      "\n",
      "See the caveats in the documentation: https://pandas.pydata.org/pandas-docs/stable/user_guide/indexing.html#returning-a-view-versus-a-copy\n",
      "  \"\"\"Entry point for launching an IPython kernel.\n"
     ]
    }
   ],
   "source": [
    "submit['PassengerId'] = test['PassengerId']"
   ]
  },
  {
   "cell_type": "code",
   "execution_count": 30,
   "id": "54f11059",
   "metadata": {
    "execution": {
     "iopub.execute_input": "2023-01-31T22:30:55.515215Z",
     "iopub.status.busy": "2023-01-31T22:30:55.514827Z",
     "iopub.status.idle": "2023-01-31T22:30:55.537747Z",
     "shell.execute_reply": "2023-01-31T22:30:55.536456Z"
    },
    "papermill": {
     "duration": 0.041712,
     "end_time": "2023-01-31T22:30:55.540772",
     "exception": false,
     "start_time": "2023-01-31T22:30:55.499060",
     "status": "completed"
    },
    "tags": []
   },
   "outputs": [
    {
     "data": {
      "text/html": [
       "<div>\n",
       "<style scoped>\n",
       "    .dataframe tbody tr th:only-of-type {\n",
       "        vertical-align: middle;\n",
       "    }\n",
       "\n",
       "    .dataframe tbody tr th {\n",
       "        vertical-align: top;\n",
       "    }\n",
       "\n",
       "    .dataframe thead th {\n",
       "        text-align: right;\n",
       "    }\n",
       "</style>\n",
       "<table border=\"1\" class=\"dataframe\">\n",
       "  <thead>\n",
       "    <tr style=\"text-align: right;\">\n",
       "      <th></th>\n",
       "      <th>Pclass</th>\n",
       "      <th>Age</th>\n",
       "      <th>SibSp</th>\n",
       "      <th>Parch</th>\n",
       "      <th>Fare</th>\n",
       "      <th>Sex_male</th>\n",
       "      <th>Embarked_Q</th>\n",
       "      <th>Embarked_S</th>\n",
       "      <th>Title_Col</th>\n",
       "      <th>Title_Countess</th>\n",
       "      <th>...</th>\n",
       "      <th>Title_Miss</th>\n",
       "      <th>Title_Mlle</th>\n",
       "      <th>Title_Mme</th>\n",
       "      <th>Title_Mr</th>\n",
       "      <th>Title_Mrs</th>\n",
       "      <th>Title_Ms</th>\n",
       "      <th>Title_Rev</th>\n",
       "      <th>Title_Sir</th>\n",
       "      <th>Survived</th>\n",
       "      <th>PassengerId</th>\n",
       "    </tr>\n",
       "  </thead>\n",
       "  <tbody>\n",
       "    <tr>\n",
       "      <th>0</th>\n",
       "      <td>3</td>\n",
       "      <td>34.5</td>\n",
       "      <td>0</td>\n",
       "      <td>0</td>\n",
       "      <td>7.8292</td>\n",
       "      <td>1</td>\n",
       "      <td>1</td>\n",
       "      <td>0</td>\n",
       "      <td>0</td>\n",
       "      <td>0</td>\n",
       "      <td>...</td>\n",
       "      <td>0</td>\n",
       "      <td>0</td>\n",
       "      <td>0</td>\n",
       "      <td>1</td>\n",
       "      <td>0</td>\n",
       "      <td>0</td>\n",
       "      <td>0</td>\n",
       "      <td>0</td>\n",
       "      <td>0.0</td>\n",
       "      <td>892</td>\n",
       "    </tr>\n",
       "    <tr>\n",
       "      <th>1</th>\n",
       "      <td>3</td>\n",
       "      <td>47.0</td>\n",
       "      <td>1</td>\n",
       "      <td>0</td>\n",
       "      <td>7.0000</td>\n",
       "      <td>0</td>\n",
       "      <td>0</td>\n",
       "      <td>1</td>\n",
       "      <td>0</td>\n",
       "      <td>0</td>\n",
       "      <td>...</td>\n",
       "      <td>0</td>\n",
       "      <td>0</td>\n",
       "      <td>0</td>\n",
       "      <td>0</td>\n",
       "      <td>1</td>\n",
       "      <td>0</td>\n",
       "      <td>0</td>\n",
       "      <td>0</td>\n",
       "      <td>0.0</td>\n",
       "      <td>893</td>\n",
       "    </tr>\n",
       "    <tr>\n",
       "      <th>2</th>\n",
       "      <td>2</td>\n",
       "      <td>62.0</td>\n",
       "      <td>0</td>\n",
       "      <td>0</td>\n",
       "      <td>9.6875</td>\n",
       "      <td>1</td>\n",
       "      <td>1</td>\n",
       "      <td>0</td>\n",
       "      <td>0</td>\n",
       "      <td>0</td>\n",
       "      <td>...</td>\n",
       "      <td>0</td>\n",
       "      <td>0</td>\n",
       "      <td>0</td>\n",
       "      <td>1</td>\n",
       "      <td>0</td>\n",
       "      <td>0</td>\n",
       "      <td>0</td>\n",
       "      <td>0</td>\n",
       "      <td>0.0</td>\n",
       "      <td>894</td>\n",
       "    </tr>\n",
       "    <tr>\n",
       "      <th>3</th>\n",
       "      <td>3</td>\n",
       "      <td>27.0</td>\n",
       "      <td>0</td>\n",
       "      <td>0</td>\n",
       "      <td>8.6625</td>\n",
       "      <td>1</td>\n",
       "      <td>0</td>\n",
       "      <td>1</td>\n",
       "      <td>0</td>\n",
       "      <td>0</td>\n",
       "      <td>...</td>\n",
       "      <td>0</td>\n",
       "      <td>0</td>\n",
       "      <td>0</td>\n",
       "      <td>1</td>\n",
       "      <td>0</td>\n",
       "      <td>0</td>\n",
       "      <td>0</td>\n",
       "      <td>0</td>\n",
       "      <td>0.0</td>\n",
       "      <td>895</td>\n",
       "    </tr>\n",
       "    <tr>\n",
       "      <th>4</th>\n",
       "      <td>3</td>\n",
       "      <td>22.0</td>\n",
       "      <td>1</td>\n",
       "      <td>1</td>\n",
       "      <td>12.2875</td>\n",
       "      <td>0</td>\n",
       "      <td>0</td>\n",
       "      <td>1</td>\n",
       "      <td>0</td>\n",
       "      <td>0</td>\n",
       "      <td>...</td>\n",
       "      <td>0</td>\n",
       "      <td>0</td>\n",
       "      <td>0</td>\n",
       "      <td>0</td>\n",
       "      <td>1</td>\n",
       "      <td>0</td>\n",
       "      <td>0</td>\n",
       "      <td>0</td>\n",
       "      <td>1.0</td>\n",
       "      <td>896</td>\n",
       "    </tr>\n",
       "  </tbody>\n",
       "</table>\n",
       "<p>5 rows × 27 columns</p>\n",
       "</div>"
      ],
      "text/plain": [
       "   Pclass   Age  SibSp  Parch     Fare  Sex_male  Embarked_Q  Embarked_S  \\\n",
       "0       3  34.5      0      0   7.8292         1           1           0   \n",
       "1       3  47.0      1      0   7.0000         0           0           1   \n",
       "2       2  62.0      0      0   9.6875         1           1           0   \n",
       "3       3  27.0      0      0   8.6625         1           0           1   \n",
       "4       3  22.0      1      1  12.2875         0           0           1   \n",
       "\n",
       "   Title_Col  Title_Countess  ...  Title_Miss  Title_Mlle  Title_Mme  \\\n",
       "0          0               0  ...           0           0          0   \n",
       "1          0               0  ...           0           0          0   \n",
       "2          0               0  ...           0           0          0   \n",
       "3          0               0  ...           0           0          0   \n",
       "4          0               0  ...           0           0          0   \n",
       "\n",
       "   Title_Mr  Title_Mrs  Title_Ms  Title_Rev  Title_Sir  Survived  PassengerId  \n",
       "0         1          0         0          0          0       0.0          892  \n",
       "1         0          1         0          0          0       0.0          893  \n",
       "2         1          0         0          0          0       0.0          894  \n",
       "3         1          0         0          0          0       0.0          895  \n",
       "4         0          1         0          0          0       1.0          896  \n",
       "\n",
       "[5 rows x 27 columns]"
      ]
     },
     "execution_count": 30,
     "metadata": {},
     "output_type": "execute_result"
    }
   ],
   "source": [
    "submit.head()"
   ]
  },
  {
   "cell_type": "code",
   "execution_count": 31,
   "id": "c7b7d7f4",
   "metadata": {
    "execution": {
     "iopub.execute_input": "2023-01-31T22:30:55.571655Z",
     "iopub.status.busy": "2023-01-31T22:30:55.571252Z",
     "iopub.status.idle": "2023-01-31T22:30:55.586700Z",
     "shell.execute_reply": "2023-01-31T22:30:55.585384Z"
    },
    "papermill": {
     "duration": 0.034789,
     "end_time": "2023-01-31T22:30:55.590227",
     "exception": false,
     "start_time": "2023-01-31T22:30:55.555438",
     "status": "completed"
    },
    "tags": []
   },
   "outputs": [
    {
     "name": "stdout",
     "output_type": "stream",
     "text": [
      "<class 'pandas.core.frame.DataFrame'>\n",
      "Int64Index: 418 entries, 0 to 417\n",
      "Data columns (total 27 columns):\n",
      " #   Column          Non-Null Count  Dtype  \n",
      "---  ------          --------------  -----  \n",
      " 0   Pclass          418 non-null    int64  \n",
      " 1   Age             418 non-null    float64\n",
      " 2   SibSp           418 non-null    int64  \n",
      " 3   Parch           418 non-null    int64  \n",
      " 4   Fare            418 non-null    float64\n",
      " 5   Sex_male        418 non-null    uint8  \n",
      " 6   Embarked_Q      418 non-null    uint8  \n",
      " 7   Embarked_S      418 non-null    uint8  \n",
      " 8   Title_Col       418 non-null    uint8  \n",
      " 9   Title_Countess  418 non-null    uint8  \n",
      " 10  Title_Don       418 non-null    uint8  \n",
      " 11  Title_Dona      418 non-null    uint8  \n",
      " 12  Title_Dr        418 non-null    uint8  \n",
      " 13  Title_Jonkheer  418 non-null    uint8  \n",
      " 14  Title_Lady      418 non-null    uint8  \n",
      " 15  Title_Major     418 non-null    uint8  \n",
      " 16  Title_Master    418 non-null    uint8  \n",
      " 17  Title_Miss      418 non-null    uint8  \n",
      " 18  Title_Mlle      418 non-null    uint8  \n",
      " 19  Title_Mme       418 non-null    uint8  \n",
      " 20  Title_Mr        418 non-null    uint8  \n",
      " 21  Title_Mrs       418 non-null    uint8  \n",
      " 22  Title_Ms        418 non-null    uint8  \n",
      " 23  Title_Rev       418 non-null    uint8  \n",
      " 24  Title_Sir       418 non-null    uint8  \n",
      " 25  Survived        418 non-null    float64\n",
      " 26  PassengerId     418 non-null    int64  \n",
      "dtypes: float64(3), int64(4), uint8(20)\n",
      "memory usage: 34.3 KB\n"
     ]
    }
   ],
   "source": [
    "submit.info()"
   ]
  },
  {
   "cell_type": "code",
   "execution_count": 32,
   "id": "0fbbba0e",
   "metadata": {
    "execution": {
     "iopub.execute_input": "2023-01-31T22:30:55.623814Z",
     "iopub.status.busy": "2023-01-31T22:30:55.623098Z",
     "iopub.status.idle": "2023-01-31T22:30:55.629727Z",
     "shell.execute_reply": "2023-01-31T22:30:55.628813Z"
    },
    "papermill": {
     "duration": 0.026217,
     "end_time": "2023-01-31T22:30:55.632088",
     "exception": false,
     "start_time": "2023-01-31T22:30:55.605871",
     "status": "completed"
    },
    "tags": []
   },
   "outputs": [],
   "source": [
    "submit = submit[['PassengerId','Survived']]"
   ]
  },
  {
   "cell_type": "code",
   "execution_count": 33,
   "id": "c12becf1",
   "metadata": {
    "execution": {
     "iopub.execute_input": "2023-01-31T22:30:55.666401Z",
     "iopub.status.busy": "2023-01-31T22:30:55.665688Z",
     "iopub.status.idle": "2023-01-31T22:30:55.678180Z",
     "shell.execute_reply": "2023-01-31T22:30:55.676968Z"
    },
    "papermill": {
     "duration": 0.033207,
     "end_time": "2023-01-31T22:30:55.680871",
     "exception": false,
     "start_time": "2023-01-31T22:30:55.647664",
     "status": "completed"
    },
    "tags": []
   },
   "outputs": [
    {
     "data": {
      "text/html": [
       "<div>\n",
       "<style scoped>\n",
       "    .dataframe tbody tr th:only-of-type {\n",
       "        vertical-align: middle;\n",
       "    }\n",
       "\n",
       "    .dataframe tbody tr th {\n",
       "        vertical-align: top;\n",
       "    }\n",
       "\n",
       "    .dataframe thead th {\n",
       "        text-align: right;\n",
       "    }\n",
       "</style>\n",
       "<table border=\"1\" class=\"dataframe\">\n",
       "  <thead>\n",
       "    <tr style=\"text-align: right;\">\n",
       "      <th></th>\n",
       "      <th>PassengerId</th>\n",
       "      <th>Survived</th>\n",
       "    </tr>\n",
       "  </thead>\n",
       "  <tbody>\n",
       "    <tr>\n",
       "      <th>0</th>\n",
       "      <td>892</td>\n",
       "      <td>0.0</td>\n",
       "    </tr>\n",
       "    <tr>\n",
       "      <th>1</th>\n",
       "      <td>893</td>\n",
       "      <td>0.0</td>\n",
       "    </tr>\n",
       "    <tr>\n",
       "      <th>2</th>\n",
       "      <td>894</td>\n",
       "      <td>0.0</td>\n",
       "    </tr>\n",
       "    <tr>\n",
       "      <th>3</th>\n",
       "      <td>895</td>\n",
       "      <td>0.0</td>\n",
       "    </tr>\n",
       "    <tr>\n",
       "      <th>4</th>\n",
       "      <td>896</td>\n",
       "      <td>1.0</td>\n",
       "    </tr>\n",
       "    <tr>\n",
       "      <th>5</th>\n",
       "      <td>897</td>\n",
       "      <td>0.0</td>\n",
       "    </tr>\n",
       "    <tr>\n",
       "      <th>6</th>\n",
       "      <td>898</td>\n",
       "      <td>0.0</td>\n",
       "    </tr>\n",
       "    <tr>\n",
       "      <th>7</th>\n",
       "      <td>899</td>\n",
       "      <td>0.0</td>\n",
       "    </tr>\n",
       "    <tr>\n",
       "      <th>8</th>\n",
       "      <td>900</td>\n",
       "      <td>1.0</td>\n",
       "    </tr>\n",
       "    <tr>\n",
       "      <th>9</th>\n",
       "      <td>901</td>\n",
       "      <td>0.0</td>\n",
       "    </tr>\n",
       "  </tbody>\n",
       "</table>\n",
       "</div>"
      ],
      "text/plain": [
       "   PassengerId  Survived\n",
       "0          892       0.0\n",
       "1          893       0.0\n",
       "2          894       0.0\n",
       "3          895       0.0\n",
       "4          896       1.0\n",
       "5          897       0.0\n",
       "6          898       0.0\n",
       "7          899       0.0\n",
       "8          900       1.0\n",
       "9          901       0.0"
      ]
     },
     "execution_count": 33,
     "metadata": {},
     "output_type": "execute_result"
    }
   ],
   "source": [
    "submit.head(10)"
   ]
  },
  {
   "cell_type": "code",
   "execution_count": 34,
   "id": "ddecf01c",
   "metadata": {
    "execution": {
     "iopub.execute_input": "2023-01-31T22:30:55.715526Z",
     "iopub.status.busy": "2023-01-31T22:30:55.715086Z",
     "iopub.status.idle": "2023-01-31T22:30:55.721656Z",
     "shell.execute_reply": "2023-01-31T22:30:55.720344Z"
    },
    "papermill": {
     "duration": 0.02529,
     "end_time": "2023-01-31T22:30:55.724137",
     "exception": false,
     "start_time": "2023-01-31T22:30:55.698847",
     "status": "completed"
    },
    "tags": []
   },
   "outputs": [],
   "source": [
    "submit['Survived'] = submit['Survived'].astype('int64')"
   ]
  },
  {
   "cell_type": "code",
   "execution_count": 35,
   "id": "7b56afbc",
   "metadata": {
    "execution": {
     "iopub.execute_input": "2023-01-31T22:30:55.757386Z",
     "iopub.status.busy": "2023-01-31T22:30:55.756975Z",
     "iopub.status.idle": "2023-01-31T22:30:55.767138Z",
     "shell.execute_reply": "2023-01-31T22:30:55.765617Z"
    },
    "papermill": {
     "duration": 0.030452,
     "end_time": "2023-01-31T22:30:55.770377",
     "exception": false,
     "start_time": "2023-01-31T22:30:55.739925",
     "status": "completed"
    },
    "tags": []
   },
   "outputs": [],
   "source": [
    "submit.to_csv('submission.csv', index=False)"
   ]
  },
  {
   "cell_type": "code",
   "execution_count": 36,
   "id": "45097370",
   "metadata": {
    "execution": {
     "iopub.execute_input": "2023-01-31T22:30:55.804038Z",
     "iopub.status.busy": "2023-01-31T22:30:55.803633Z",
     "iopub.status.idle": "2023-01-31T22:30:55.814131Z",
     "shell.execute_reply": "2023-01-31T22:30:55.812977Z"
    },
    "papermill": {
     "duration": 0.030156,
     "end_time": "2023-01-31T22:30:55.816587",
     "exception": false,
     "start_time": "2023-01-31T22:30:55.786431",
     "status": "completed"
    },
    "tags": []
   },
   "outputs": [
    {
     "data": {
      "text/html": [
       "<div>\n",
       "<style scoped>\n",
       "    .dataframe tbody tr th:only-of-type {\n",
       "        vertical-align: middle;\n",
       "    }\n",
       "\n",
       "    .dataframe tbody tr th {\n",
       "        vertical-align: top;\n",
       "    }\n",
       "\n",
       "    .dataframe thead th {\n",
       "        text-align: right;\n",
       "    }\n",
       "</style>\n",
       "<table border=\"1\" class=\"dataframe\">\n",
       "  <thead>\n",
       "    <tr style=\"text-align: right;\">\n",
       "      <th></th>\n",
       "      <th>PassengerId</th>\n",
       "      <th>Survived</th>\n",
       "    </tr>\n",
       "  </thead>\n",
       "  <tbody>\n",
       "    <tr>\n",
       "      <th>0</th>\n",
       "      <td>892</td>\n",
       "      <td>0</td>\n",
       "    </tr>\n",
       "    <tr>\n",
       "      <th>1</th>\n",
       "      <td>893</td>\n",
       "      <td>0</td>\n",
       "    </tr>\n",
       "    <tr>\n",
       "      <th>2</th>\n",
       "      <td>894</td>\n",
       "      <td>0</td>\n",
       "    </tr>\n",
       "    <tr>\n",
       "      <th>3</th>\n",
       "      <td>895</td>\n",
       "      <td>0</td>\n",
       "    </tr>\n",
       "    <tr>\n",
       "      <th>4</th>\n",
       "      <td>896</td>\n",
       "      <td>1</td>\n",
       "    </tr>\n",
       "  </tbody>\n",
       "</table>\n",
       "</div>"
      ],
      "text/plain": [
       "   PassengerId  Survived\n",
       "0          892         0\n",
       "1          893         0\n",
       "2          894         0\n",
       "3          895         0\n",
       "4          896         1"
      ]
     },
     "execution_count": 36,
     "metadata": {},
     "output_type": "execute_result"
    }
   ],
   "source": [
    "submit.head()"
   ]
  },
  {
   "cell_type": "code",
   "execution_count": null,
   "id": "48c6fc2f",
   "metadata": {
    "papermill": {
     "duration": 0.015684,
     "end_time": "2023-01-31T22:30:55.848359",
     "exception": false,
     "start_time": "2023-01-31T22:30:55.832675",
     "status": "completed"
    },
    "tags": []
   },
   "outputs": [],
   "source": []
  }
 ],
 "metadata": {
  "kernelspec": {
   "display_name": "Python 3",
   "language": "python",
   "name": "python3"
  },
  "language_info": {
   "codemirror_mode": {
    "name": "ipython",
    "version": 3
   },
   "file_extension": ".py",
   "mimetype": "text/x-python",
   "name": "python",
   "nbconvert_exporter": "python",
   "pygments_lexer": "ipython3",
   "version": "3.7.12"
  },
  "papermill": {
   "default_parameters": {},
   "duration": 17.212072,
   "end_time": "2023-01-31T22:30:56.685701",
   "environment_variables": {},
   "exception": null,
   "input_path": "__notebook__.ipynb",
   "output_path": "__notebook__.ipynb",
   "parameters": {},
   "start_time": "2023-01-31T22:30:39.473629",
   "version": "2.3.4"
  }
 },
 "nbformat": 4,
 "nbformat_minor": 5
}
