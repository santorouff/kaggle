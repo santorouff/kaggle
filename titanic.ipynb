{
 "cells": [
  {
   "cell_type": "markdown",
   "id": "5e5cc780",
   "metadata": {
    "papermill": {
     "duration": 0.009762,
     "end_time": "2023-01-31T13:18:00.011736",
     "exception": false,
     "start_time": "2023-01-31T13:18:00.001974",
     "status": "completed"
    },
    "tags": []
   },
   "source": [
    "# Titanic Competition"
   ]
  },
  {
   "cell_type": "code",
   "execution_count": 1,
   "id": "c81d34d5",
   "metadata": {
    "_cell_guid": "b1076dfc-b9ad-4769-8c92-a6c4dae69d19",
    "_uuid": "8f2839f25d086af736a60e9eeb907d3b93b6e0e5",
    "execution": {
     "iopub.execute_input": "2023-01-31T13:18:00.031386Z",
     "iopub.status.busy": "2023-01-31T13:18:00.030794Z",
     "iopub.status.idle": "2023-01-31T13:18:00.058857Z",
     "shell.execute_reply": "2023-01-31T13:18:00.057359Z"
    },
    "papermill": {
     "duration": 0.041403,
     "end_time": "2023-01-31T13:18:00.061982",
     "exception": false,
     "start_time": "2023-01-31T13:18:00.020579",
     "status": "completed"
    },
    "tags": []
   },
   "outputs": [
    {
     "name": "stdout",
     "output_type": "stream",
     "text": [
      "/kaggle/input/titanic/train.csv\n",
      "/kaggle/input/titanic/test.csv\n",
      "/kaggle/input/titanic/gender_submission.csv\n"
     ]
    }
   ],
   "source": [
    "# This Python 3 environment comes with many helpful analytics libraries installed\n",
    "# It is defined by the kaggle/python Docker image: https://github.com/kaggle/docker-python\n",
    "# For example, here's several helpful packages to load\n",
    "\n",
    "import numpy as np # linear algebra\n",
    "import pandas as pd # data processing, CSV file I/O (e.g. pd.read_csv)\n",
    "\n",
    "# Input data files are available in the read-only \"../input/\" directory\n",
    "# For example, running this (by clicking run or pressing Shift+Enter) will list all files under the input directory\n",
    "\n",
    "import os\n",
    "for dirname, _, filenames in os.walk('/kaggle/input'):\n",
    "    for filename in filenames:\n",
    "        print(os.path.join(dirname, filename))\n",
    "\n",
    "# You can write up to 20GB to the current directory (/kaggle/working/) that gets preserved as output when you create a version using \"Save & Run All\" \n",
    "# You can also write temporary files to /kaggle/temp/, but they won't be saved outside of the current session"
   ]
  },
  {
   "cell_type": "markdown",
   "id": "2e1b9fd9",
   "metadata": {
    "papermill": {
     "duration": 0.011214,
     "end_time": "2023-01-31T13:18:00.082218",
     "exception": false,
     "start_time": "2023-01-31T13:18:00.071004",
     "status": "completed"
    },
    "tags": []
   },
   "source": [
    "### Import libraries"
   ]
  },
  {
   "cell_type": "code",
   "execution_count": 2,
   "id": "f2b7607d",
   "metadata": {
    "execution": {
     "iopub.execute_input": "2023-01-31T13:18:00.104583Z",
     "iopub.status.busy": "2023-01-31T13:18:00.103674Z",
     "iopub.status.idle": "2023-01-31T13:18:01.739679Z",
     "shell.execute_reply": "2023-01-31T13:18:01.738443Z"
    },
    "papermill": {
     "duration": 1.649537,
     "end_time": "2023-01-31T13:18:01.742671",
     "exception": false,
     "start_time": "2023-01-31T13:18:00.093134",
     "status": "completed"
    },
    "tags": []
   },
   "outputs": [],
   "source": [
    "import matplotlib.pyplot as plt\n",
    "%matplotlib inline\n",
    "import seaborn as sns\n",
    "\n",
    "from sklearn.model_selection import train_test_split\n",
    "from sklearn.metrics import  confusion_matrix, f1_score, accuracy_score\n",
    "from sklearn.neighbors import KNeighborsClassifier\n",
    "from sklearn.model_selection import cross_val_score\n",
    "from sklearn.naive_bayes import GaussianNB\n",
    "from sklearn.linear_model import LogisticRegression\n",
    "from sklearn import tree\n",
    "from sklearn.neighbors import KNeighborsClassifier\n",
    "from sklearn.tree import DecisionTreeClassifier\n",
    "from sklearn.ensemble import RandomForestClassifier, AdaBoostClassifier\n",
    "from xgboost import XGBClassifier\n",
    "from sklearn.svm import SVC"
   ]
  },
  {
   "cell_type": "markdown",
   "id": "4664bc44",
   "metadata": {
    "papermill": {
     "duration": 0.008249,
     "end_time": "2023-01-31T13:18:01.759793",
     "exception": false,
     "start_time": "2023-01-31T13:18:01.751544",
     "status": "completed"
    },
    "tags": []
   },
   "source": [
    "### Read Data"
   ]
  },
  {
   "cell_type": "code",
   "execution_count": 3,
   "id": "677319fc",
   "metadata": {
    "execution": {
     "iopub.execute_input": "2023-01-31T13:18:01.779369Z",
     "iopub.status.busy": "2023-01-31T13:18:01.778413Z",
     "iopub.status.idle": "2023-01-31T13:18:01.829905Z",
     "shell.execute_reply": "2023-01-31T13:18:01.828306Z"
    },
    "papermill": {
     "duration": 0.064371,
     "end_time": "2023-01-31T13:18:01.832764",
     "exception": false,
     "start_time": "2023-01-31T13:18:01.768393",
     "status": "completed"
    },
    "tags": []
   },
   "outputs": [
    {
     "data": {
      "text/html": [
       "<div>\n",
       "<style scoped>\n",
       "    .dataframe tbody tr th:only-of-type {\n",
       "        vertical-align: middle;\n",
       "    }\n",
       "\n",
       "    .dataframe tbody tr th {\n",
       "        vertical-align: top;\n",
       "    }\n",
       "\n",
       "    .dataframe thead th {\n",
       "        text-align: right;\n",
       "    }\n",
       "</style>\n",
       "<table border=\"1\" class=\"dataframe\">\n",
       "  <thead>\n",
       "    <tr style=\"text-align: right;\">\n",
       "      <th></th>\n",
       "      <th>PassengerId</th>\n",
       "      <th>Survived</th>\n",
       "      <th>Pclass</th>\n",
       "      <th>Name</th>\n",
       "      <th>Sex</th>\n",
       "      <th>Age</th>\n",
       "      <th>SibSp</th>\n",
       "      <th>Parch</th>\n",
       "      <th>Ticket</th>\n",
       "      <th>Fare</th>\n",
       "      <th>Cabin</th>\n",
       "      <th>Embarked</th>\n",
       "    </tr>\n",
       "  </thead>\n",
       "  <tbody>\n",
       "    <tr>\n",
       "      <th>0</th>\n",
       "      <td>1</td>\n",
       "      <td>0</td>\n",
       "      <td>3</td>\n",
       "      <td>Braund, Mr. Owen Harris</td>\n",
       "      <td>male</td>\n",
       "      <td>22.0</td>\n",
       "      <td>1</td>\n",
       "      <td>0</td>\n",
       "      <td>A/5 21171</td>\n",
       "      <td>7.2500</td>\n",
       "      <td>NaN</td>\n",
       "      <td>S</td>\n",
       "    </tr>\n",
       "    <tr>\n",
       "      <th>1</th>\n",
       "      <td>2</td>\n",
       "      <td>1</td>\n",
       "      <td>1</td>\n",
       "      <td>Cumings, Mrs. John Bradley (Florence Briggs Th...</td>\n",
       "      <td>female</td>\n",
       "      <td>38.0</td>\n",
       "      <td>1</td>\n",
       "      <td>0</td>\n",
       "      <td>PC 17599</td>\n",
       "      <td>71.2833</td>\n",
       "      <td>C85</td>\n",
       "      <td>C</td>\n",
       "    </tr>\n",
       "    <tr>\n",
       "      <th>2</th>\n",
       "      <td>3</td>\n",
       "      <td>1</td>\n",
       "      <td>3</td>\n",
       "      <td>Heikkinen, Miss. Laina</td>\n",
       "      <td>female</td>\n",
       "      <td>26.0</td>\n",
       "      <td>0</td>\n",
       "      <td>0</td>\n",
       "      <td>STON/O2. 3101282</td>\n",
       "      <td>7.9250</td>\n",
       "      <td>NaN</td>\n",
       "      <td>S</td>\n",
       "    </tr>\n",
       "    <tr>\n",
       "      <th>3</th>\n",
       "      <td>4</td>\n",
       "      <td>1</td>\n",
       "      <td>1</td>\n",
       "      <td>Futrelle, Mrs. Jacques Heath (Lily May Peel)</td>\n",
       "      <td>female</td>\n",
       "      <td>35.0</td>\n",
       "      <td>1</td>\n",
       "      <td>0</td>\n",
       "      <td>113803</td>\n",
       "      <td>53.1000</td>\n",
       "      <td>C123</td>\n",
       "      <td>S</td>\n",
       "    </tr>\n",
       "    <tr>\n",
       "      <th>4</th>\n",
       "      <td>5</td>\n",
       "      <td>0</td>\n",
       "      <td>3</td>\n",
       "      <td>Allen, Mr. William Henry</td>\n",
       "      <td>male</td>\n",
       "      <td>35.0</td>\n",
       "      <td>0</td>\n",
       "      <td>0</td>\n",
       "      <td>373450</td>\n",
       "      <td>8.0500</td>\n",
       "      <td>NaN</td>\n",
       "      <td>S</td>\n",
       "    </tr>\n",
       "  </tbody>\n",
       "</table>\n",
       "</div>"
      ],
      "text/plain": [
       "   PassengerId  Survived  Pclass  \\\n",
       "0            1         0       3   \n",
       "1            2         1       1   \n",
       "2            3         1       3   \n",
       "3            4         1       1   \n",
       "4            5         0       3   \n",
       "\n",
       "                                                Name     Sex   Age  SibSp  \\\n",
       "0                            Braund, Mr. Owen Harris    male  22.0      1   \n",
       "1  Cumings, Mrs. John Bradley (Florence Briggs Th...  female  38.0      1   \n",
       "2                             Heikkinen, Miss. Laina  female  26.0      0   \n",
       "3       Futrelle, Mrs. Jacques Heath (Lily May Peel)  female  35.0      1   \n",
       "4                           Allen, Mr. William Henry    male  35.0      0   \n",
       "\n",
       "   Parch            Ticket     Fare Cabin Embarked  \n",
       "0      0         A/5 21171   7.2500   NaN        S  \n",
       "1      0          PC 17599  71.2833   C85        C  \n",
       "2      0  STON/O2. 3101282   7.9250   NaN        S  \n",
       "3      0            113803  53.1000  C123        S  \n",
       "4      0            373450   8.0500   NaN        S  "
      ]
     },
     "execution_count": 3,
     "metadata": {},
     "output_type": "execute_result"
    }
   ],
   "source": [
    "train = pd.read_csv('/kaggle/input/titanic/train.csv')\n",
    "test = pd.read_csv('/kaggle/input/titanic/test.csv')\n",
    "train.head()"
   ]
  },
  {
   "cell_type": "code",
   "execution_count": 4,
   "id": "cda912c0",
   "metadata": {
    "execution": {
     "iopub.execute_input": "2023-01-31T13:18:01.852408Z",
     "iopub.status.busy": "2023-01-31T13:18:01.851999Z",
     "iopub.status.idle": "2023-01-31T13:18:01.857773Z",
     "shell.execute_reply": "2023-01-31T13:18:01.856623Z"
    },
    "papermill": {
     "duration": 0.019115,
     "end_time": "2023-01-31T13:18:01.860948",
     "exception": false,
     "start_time": "2023-01-31T13:18:01.841833",
     "status": "completed"
    },
    "tags": []
   },
   "outputs": [
    {
     "name": "stdout",
     "output_type": "stream",
     "text": [
      "(891, 12)\n",
      "(418, 11)\n"
     ]
    }
   ],
   "source": [
    "print(train.shape)\n",
    "print(test.shape)"
   ]
  },
  {
   "cell_type": "markdown",
   "id": "9bde1f74",
   "metadata": {
    "papermill": {
     "duration": 0.008641,
     "end_time": "2023-01-31T13:18:01.880505",
     "exception": false,
     "start_time": "2023-01-31T13:18:01.871864",
     "status": "completed"
    },
    "tags": []
   },
   "source": [
    "### Exploratory Data Analysis"
   ]
  },
  {
   "cell_type": "code",
   "execution_count": 5,
   "id": "f70e78d7",
   "metadata": {
    "execution": {
     "iopub.execute_input": "2023-01-31T13:18:01.900638Z",
     "iopub.status.busy": "2023-01-31T13:18:01.900147Z",
     "iopub.status.idle": "2023-01-31T13:18:01.926539Z",
     "shell.execute_reply": "2023-01-31T13:18:01.924906Z"
    },
    "papermill": {
     "duration": 0.040204,
     "end_time": "2023-01-31T13:18:01.929493",
     "exception": false,
     "start_time": "2023-01-31T13:18:01.889289",
     "status": "completed"
    },
    "tags": []
   },
   "outputs": [
    {
     "name": "stdout",
     "output_type": "stream",
     "text": [
      "<class 'pandas.core.frame.DataFrame'>\n",
      "RangeIndex: 891 entries, 0 to 890\n",
      "Data columns (total 12 columns):\n",
      " #   Column       Non-Null Count  Dtype  \n",
      "---  ------       --------------  -----  \n",
      " 0   PassengerId  891 non-null    int64  \n",
      " 1   Survived     891 non-null    int64  \n",
      " 2   Pclass       891 non-null    int64  \n",
      " 3   Name         891 non-null    object \n",
      " 4   Sex          891 non-null    object \n",
      " 5   Age          714 non-null    float64\n",
      " 6   SibSp        891 non-null    int64  \n",
      " 7   Parch        891 non-null    int64  \n",
      " 8   Ticket       891 non-null    object \n",
      " 9   Fare         891 non-null    float64\n",
      " 10  Cabin        204 non-null    object \n",
      " 11  Embarked     889 non-null    object \n",
      "dtypes: float64(2), int64(5), object(5)\n",
      "memory usage: 83.7+ KB\n"
     ]
    }
   ],
   "source": [
    "train.info()"
   ]
  },
  {
   "cell_type": "code",
   "execution_count": 6,
   "id": "f9d0a837",
   "metadata": {
    "execution": {
     "iopub.execute_input": "2023-01-31T13:18:01.949876Z",
     "iopub.status.busy": "2023-01-31T13:18:01.949064Z",
     "iopub.status.idle": "2023-01-31T13:18:01.959047Z",
     "shell.execute_reply": "2023-01-31T13:18:01.957871Z"
    },
    "papermill": {
     "duration": 0.022613,
     "end_time": "2023-01-31T13:18:01.961211",
     "exception": false,
     "start_time": "2023-01-31T13:18:01.938598",
     "status": "completed"
    },
    "tags": []
   },
   "outputs": [
    {
     "data": {
      "text/plain": [
       "PassengerId      0\n",
       "Survived         0\n",
       "Pclass           0\n",
       "Name             0\n",
       "Sex              0\n",
       "Age            177\n",
       "SibSp            0\n",
       "Parch            0\n",
       "Ticket           0\n",
       "Fare             0\n",
       "Cabin          687\n",
       "Embarked         2\n",
       "dtype: int64"
      ]
     },
     "execution_count": 6,
     "metadata": {},
     "output_type": "execute_result"
    }
   ],
   "source": [
    "train.isna().sum()"
   ]
  },
  {
   "cell_type": "markdown",
   "id": "484c9a1f",
   "metadata": {
    "papermill": {
     "duration": 0.009475,
     "end_time": "2023-01-31T13:18:01.979831",
     "exception": false,
     "start_time": "2023-01-31T13:18:01.970356",
     "status": "completed"
    },
    "tags": []
   },
   "source": [
    "### Data Wrangling"
   ]
  },
  {
   "cell_type": "code",
   "execution_count": 7,
   "id": "038e5527",
   "metadata": {
    "execution": {
     "iopub.execute_input": "2023-01-31T13:18:02.000773Z",
     "iopub.status.busy": "2023-01-31T13:18:01.999599Z",
     "iopub.status.idle": "2023-01-31T13:18:02.010057Z",
     "shell.execute_reply": "2023-01-31T13:18:02.008924Z"
    },
    "papermill": {
     "duration": 0.023439,
     "end_time": "2023-01-31T13:18:02.012472",
     "exception": false,
     "start_time": "2023-01-31T13:18:01.989033",
     "status": "completed"
    },
    "tags": []
   },
   "outputs": [],
   "source": [
    "# Replace NA value by 'Age' mean and 'Embarked' mode.\n",
    "train['Age'].fillna(train['Age'].mean(), inplace = True)\n",
    "test['Age'].fillna(test['Age'].mean(), inplace = True)\n",
    "\n",
    "# Replace NA value by 'Embarked' mode.\n",
    "train['Embarked'].fillna(train['Embarked'].mode()[0], inplace = True)\n",
    "test['Embarked'].fillna(test['Embarked'].mode()[0], inplace = True)"
   ]
  },
  {
   "cell_type": "code",
   "execution_count": 8,
   "id": "62221299",
   "metadata": {
    "execution": {
     "iopub.execute_input": "2023-01-31T13:18:02.032606Z",
     "iopub.status.busy": "2023-01-31T13:18:02.032185Z",
     "iopub.status.idle": "2023-01-31T13:18:02.041945Z",
     "shell.execute_reply": "2023-01-31T13:18:02.040755Z"
    },
    "papermill": {
     "duration": 0.022747,
     "end_time": "2023-01-31T13:18:02.044385",
     "exception": false,
     "start_time": "2023-01-31T13:18:02.021638",
     "status": "completed"
    },
    "tags": []
   },
   "outputs": [
    {
     "data": {
      "text/plain": [
       "PassengerId      0\n",
       "Survived         0\n",
       "Pclass           0\n",
       "Name             0\n",
       "Sex              0\n",
       "Age              0\n",
       "SibSp            0\n",
       "Parch            0\n",
       "Ticket           0\n",
       "Fare             0\n",
       "Cabin          687\n",
       "Embarked         0\n",
       "dtype: int64"
      ]
     },
     "execution_count": 8,
     "metadata": {},
     "output_type": "execute_result"
    }
   ],
   "source": [
    "# 'Cabin' still needs to be adjusted.\n",
    "# We decided to delete this feature, since there are too many null values.\n",
    "train.isna().sum()"
   ]
  },
  {
   "cell_type": "code",
   "execution_count": 9,
   "id": "743782e9",
   "metadata": {
    "execution": {
     "iopub.execute_input": "2023-01-31T13:18:02.065684Z",
     "iopub.status.busy": "2023-01-31T13:18:02.064562Z",
     "iopub.status.idle": "2023-01-31T13:18:02.075452Z",
     "shell.execute_reply": "2023-01-31T13:18:02.074497Z"
    },
    "papermill": {
     "duration": 0.0241,
     "end_time": "2023-01-31T13:18:02.077884",
     "exception": false,
     "start_time": "2023-01-31T13:18:02.053784",
     "status": "completed"
    },
    "tags": []
   },
   "outputs": [],
   "source": [
    "# Drop \"PassengerId\", \"Fare\", \"Name\", \"Ticket\",\"Cabin\" columns in the train set.\n",
    "train.drop([\"PassengerId\", \"Fare\", \"Name\", \"Ticket\",\"Cabin\"], axis=1, inplace=True)\n",
    "\n",
    "# We don't drop \"PassengerId\" column in the test set, because we'll need for submition.\n",
    "test.drop([\"Fare\", \"Name\", \"Ticket\",\"Cabin\"], axis=1, inplace=True)"
   ]
  },
  {
   "cell_type": "markdown",
   "id": "6cd7ec11",
   "metadata": {
    "papermill": {
     "duration": 0.009006,
     "end_time": "2023-01-31T13:18:02.096622",
     "exception": false,
     "start_time": "2023-01-31T13:18:02.087616",
     "status": "completed"
    },
    "tags": []
   },
   "source": [
    "### Data Visualization"
   ]
  },
  {
   "cell_type": "code",
   "execution_count": 10,
   "id": "2ce7be9b",
   "metadata": {
    "execution": {
     "iopub.execute_input": "2023-01-31T13:18:02.117729Z",
     "iopub.status.busy": "2023-01-31T13:18:02.116903Z",
     "iopub.status.idle": "2023-01-31T13:18:02.254325Z",
     "shell.execute_reply": "2023-01-31T13:18:02.252645Z"
    },
    "papermill": {
     "duration": 0.150857,
     "end_time": "2023-01-31T13:18:02.257123",
     "exception": false,
     "start_time": "2023-01-31T13:18:02.106266",
     "status": "completed"
    },
    "tags": []
   },
   "outputs": [
    {
     "data": {
      "image/png": "[encoded data removed]",
      "text/plain": [
       "<Figure size 720x360 with 1 Axes>"
      ]
     },
     "metadata": {},
     "output_type": "display_data"
    }
   ],
   "source": [
    "values = train['Survived'].value_counts() # Count the unique values of 'Survided' column\n",
    "labels = train['Survived'].unique() # Extract unique values of 'Survided' column (0 and 1)\n",
    "\n",
    "# Pie Chart: 0 for Died and 1 for Survived\n",
    "fig, ax = plt.subplots(figsize = (10,5))\n",
    "ax.pie(values, labels=labels, autopct='%1.2f%%')\n",
    "plt.show()"
   ]
  },
  {
   "cell_type": "code",
   "execution_count": 11,
   "id": "45215fda",
   "metadata": {
    "execution": {
     "iopub.execute_input": "2023-01-31T13:18:02.313010Z",
     "iopub.status.busy": "2023-01-31T13:18:02.311565Z",
     "iopub.status.idle": "2023-01-31T13:18:03.207822Z",
     "shell.execute_reply": "2023-01-31T13:18:03.206747Z"
    },
    "papermill": {
     "duration": 0.929109,
     "end_time": "2023-01-31T13:18:03.210309",
     "exception": false,
     "start_time": "2023-01-31T13:18:02.281200",
     "status": "completed"
    },
    "tags": []
   },
   "outputs": [
    {
     "data": {
      "image/png": "[encoded data removed]",
      "text/plain": [
       "<Figure size 1440x720 with 6 Axes>"
      ]
     },
     "metadata": {
      "needs_background": "light"
     },
     "output_type": "display_data"
    }
   ],
   "source": [
    "fig, axs = plt.subplots(2, 3, figsize = (20,10))\n",
    "sns.countplot(ax=axs[0, 0], x=train['Pclass'], hue=train['Survived'])\n",
    "sns.countplot(ax=axs[0, 1], x=train['Sex'], hue=train['Survived'])\n",
    "sns.countplot(ax=axs[0, 2], x=train['Embarked'], hue=train['Survived'])\n",
    "sns.countplot(ax=axs[1, 0], x=train['SibSp'], hue=train['Survived'])\n",
    "sns.countplot(ax=axs[1, 1], x=train['Parch'], hue=train['Survived'])\n",
    "#sns.countplot(ax=axs[1, 2], x=train['Cabin'].str[0:1].values, hue=train['Survived'])\n",
    "plt.show()"
   ]
  },
  {
   "cell_type": "code",
   "execution_count": 12,
   "id": "c21b4477",
   "metadata": {
    "execution": {
     "iopub.execute_input": "2023-01-31T13:18:03.232551Z",
     "iopub.status.busy": "2023-01-31T13:18:03.232028Z",
     "iopub.status.idle": "2023-01-31T13:18:03.241637Z",
     "shell.execute_reply": "2023-01-31T13:18:03.240692Z"
    },
    "papermill": {
     "duration": 0.023631,
     "end_time": "2023-01-31T13:18:03.244112",
     "exception": false,
     "start_time": "2023-01-31T13:18:03.220481",
     "status": "completed"
    },
    "tags": []
   },
   "outputs": [],
   "source": [
    "# Create a column with 0 and 1 for Male and Not Male (or female).\n",
    "train['Male'] = pd.get_dummies(train['Sex'])['male']\n",
    "test['Male'] = pd.get_dummies(test['Sex'])['male']"
   ]
  },
  {
   "cell_type": "code",
   "execution_count": 13,
   "id": "c96bcde8",
   "metadata": {
    "execution": {
     "iopub.execute_input": "2023-01-31T13:18:03.266504Z",
     "iopub.status.busy": "2023-01-31T13:18:03.266092Z",
     "iopub.status.idle": "2023-01-31T13:18:03.273364Z",
     "shell.execute_reply": "2023-01-31T13:18:03.272220Z"
    },
    "papermill": {
     "duration": 0.021323,
     "end_time": "2023-01-31T13:18:03.275621",
     "exception": false,
     "start_time": "2023-01-31T13:18:03.254298",
     "status": "completed"
    },
    "tags": []
   },
   "outputs": [],
   "source": [
    "# Drop 'Sex' columns, since we created the 'Male' column.\n",
    "train.drop([\"Sex\"], axis=1, inplace=True)\n",
    "test.drop([\"Sex\"], axis=1, inplace=True)"
   ]
  },
  {
   "cell_type": "code",
   "execution_count": 14,
   "id": "4501781f",
   "metadata": {
    "execution": {
     "iopub.execute_input": "2023-01-31T13:18:03.302236Z",
     "iopub.status.busy": "2023-01-31T13:18:03.300938Z",
     "iopub.status.idle": "2023-01-31T13:18:03.313482Z",
     "shell.execute_reply": "2023-01-31T13:18:03.312152Z"
    },
    "papermill": {
     "duration": 0.030311,
     "end_time": "2023-01-31T13:18:03.315936",
     "exception": false,
     "start_time": "2023-01-31T13:18:03.285625",
     "status": "completed"
    },
    "tags": []
   },
   "outputs": [],
   "source": [
    "# Create columns for each port except.\n",
    "train['Cherbourg'] = pd.get_dummies(train['Embarked'])['C']\n",
    "train['Queenstown'] = pd.get_dummies(train['Embarked'])['Q']\n",
    "\n",
    "# Drop 'Embarked', since we created columns for the ports.\n",
    "train.drop([\"Embarked\"], axis=1, inplace=True)"
   ]
  },
  {
   "cell_type": "code",
   "execution_count": 15,
   "id": "cb11b45b",
   "metadata": {
    "execution": {
     "iopub.execute_input": "2023-01-31T13:18:03.342590Z",
     "iopub.status.busy": "2023-01-31T13:18:03.341946Z",
     "iopub.status.idle": "2023-01-31T13:18:03.356862Z",
     "shell.execute_reply": "2023-01-31T13:18:03.355449Z"
    },
    "papermill": {
     "duration": 0.034983,
     "end_time": "2023-01-31T13:18:03.361480",
     "exception": false,
     "start_time": "2023-01-31T13:18:03.326497",
     "status": "completed"
    },
    "tags": []
   },
   "outputs": [],
   "source": [
    "# Create columns for each port except.\n",
    "test['Cherbourg'] = pd.get_dummies(test['Embarked'])['C']\n",
    "test['Queenstown'] = pd.get_dummies(test['Embarked'])['Q']\n",
    "\n",
    "# Drop 'Embarked', since we created columns for the ports.\n",
    "test.drop([\"Embarked\"], axis=1, inplace=True)"
   ]
  },
  {
   "cell_type": "code",
   "execution_count": 16,
   "id": "6c7e71b1",
   "metadata": {
    "execution": {
     "iopub.execute_input": "2023-01-31T13:18:03.390401Z",
     "iopub.status.busy": "2023-01-31T13:18:03.388920Z",
     "iopub.status.idle": "2023-01-31T13:18:03.397939Z",
     "shell.execute_reply": "2023-01-31T13:18:03.396413Z"
    },
    "papermill": {
     "duration": 0.025977,
     "end_time": "2023-01-31T13:18:03.401050",
     "exception": false,
     "start_time": "2023-01-31T13:18:03.375073",
     "status": "completed"
    },
    "tags": []
   },
   "outputs": [],
   "source": [
    "# Split features and labels.\n",
    "X = train.drop('Survived', axis=1)\n",
    "Y = train['Survived']"
   ]
  },
  {
   "cell_type": "code",
   "execution_count": 17,
   "id": "49a27451",
   "metadata": {
    "execution": {
     "iopub.execute_input": "2023-01-31T13:18:03.424532Z",
     "iopub.status.busy": "2023-01-31T13:18:03.423271Z",
     "iopub.status.idle": "2023-01-31T13:18:03.430704Z",
     "shell.execute_reply": "2023-01-31T13:18:03.429728Z"
    },
    "papermill": {
     "duration": 0.021513,
     "end_time": "2023-01-31T13:18:03.433142",
     "exception": false,
     "start_time": "2023-01-31T13:18:03.411629",
     "status": "completed"
    },
    "tags": []
   },
   "outputs": [],
   "source": [
    "# Split Train ans Test for modeling.\n",
    "x_train, x_test, y_train, y_test = train_test_split(X, Y, test_size=0.2, random_state=4)"
   ]
  },
  {
   "cell_type": "code",
   "execution_count": 18,
   "id": "795117bf",
   "metadata": {
    "execution": {
     "iopub.execute_input": "2023-01-31T13:18:03.456516Z",
     "iopub.status.busy": "2023-01-31T13:18:03.455694Z",
     "iopub.status.idle": "2023-01-31T13:18:03.462175Z",
     "shell.execute_reply": "2023-01-31T13:18:03.460849Z"
    },
    "papermill": {
     "duration": 0.021271,
     "end_time": "2023-01-31T13:18:03.464917",
     "exception": false,
     "start_time": "2023-01-31T13:18:03.443646",
     "status": "completed"
    },
    "tags": []
   },
   "outputs": [],
   "source": [
    "# Create a list of models we intend to \n",
    "models = [('Logistic Regression', LogisticRegression()),\n",
    "         ('KNN', KNeighborsClassifier()),\n",
    "         ('Decision Tree', DecisionTreeClassifier()),\n",
    "         ('Random Forest', RandomForestClassifier()),\n",
    "         ('Ada Boost', AdaBoostClassifier()),\n",
    "         ('XGB', XGBClassifier()),\n",
    "         ('Support Vector', SVC()),\n",
    "         ('Gaussian Naive Bayes', GaussianNB())]"
   ]
  },
  {
   "cell_type": "code",
   "execution_count": 19,
   "id": "f1628760",
   "metadata": {
    "execution": {
     "iopub.execute_input": "2023-01-31T13:18:03.489104Z",
     "iopub.status.busy": "2023-01-31T13:18:03.488661Z",
     "iopub.status.idle": "2023-01-31T13:18:04.301702Z",
     "shell.execute_reply": "2023-01-31T13:18:04.299935Z"
    },
    "papermill": {
     "duration": 0.828338,
     "end_time": "2023-01-31T13:18:04.304340",
     "exception": false,
     "start_time": "2023-01-31T13:18:03.476002",
     "status": "completed"
    },
    "tags": []
   },
   "outputs": [
    {
     "name": "stdout",
     "output_type": "stream",
     "text": [
      "Logistic Regression Train Accuracy: 0.7949438202247191 \n",
      "Logistic Regression Test Accuracy: 0.8268156424581006 \n",
      "\n",
      "KNN Train Accuracy: 0.8230337078651685 \n",
      "KNN Test Accuracy: 0.8379888268156425 \n",
      "\n",
      "Decision Tree Train Accuracy: 0.9396067415730337 \n",
      "Decision Tree Test Accuracy: 0.8156424581005587 \n",
      "\n",
      "Random Forest Train Accuracy: 0.9396067415730337 \n",
      "Random Forest Test Accuracy: 0.8324022346368715 \n",
      "\n",
      "Ada Boost Train Accuracy: 0.8202247191011236 \n",
      "Ada Boost Test Accuracy: 0.8268156424581006 \n",
      "\n",
      "XGB Train Accuracy: 0.9157303370786517 \n",
      "XGB Test Accuracy: 0.8268156424581006 \n",
      "\n",
      "Support Vector Train Accuracy: 0.6292134831460674 \n",
      "Support Vector Test Accuracy: 0.6815642458100558 \n",
      "\n",
      "Gaussian Naive Bayes Train Accuracy: 0.7752808988764045 \n",
      "Gaussian Naive Bayes Test Accuracy: 0.8324022346368715 \n",
      "\n"
     ]
    }
   ],
   "source": [
    "for name, model in models:\n",
    "    model.fit(x_train, y_train)\n",
    "    y_hat = model.predict(x_train)\n",
    "    Acc_train = accuracy_score(y_train, y_hat)\n",
    "    y_hat2 = model.predict(x_test)\n",
    "    Acc_test = accuracy_score(y_test, y_hat2)\n",
    "    print(f'{name} Train Accuracy: {Acc_train} \\n{name} Test Accuracy: {Acc_test} \\n')"
   ]
  },
  {
   "cell_type": "code",
   "execution_count": 20,
   "id": "5a8524a0",
   "metadata": {
    "execution": {
     "iopub.execute_input": "2023-01-31T13:18:04.326714Z",
     "iopub.status.busy": "2023-01-31T13:18:04.326304Z",
     "iopub.status.idle": "2023-01-31T13:18:04.521294Z",
     "shell.execute_reply": "2023-01-31T13:18:04.520490Z"
    },
    "papermill": {
     "duration": 0.209084,
     "end_time": "2023-01-31T13:18:04.523819",
     "exception": false,
     "start_time": "2023-01-31T13:18:04.314735",
     "status": "completed"
    },
    "tags": []
   },
   "outputs": [
    {
     "data": {
      "text/plain": [
       "RandomForestClassifier()"
      ]
     },
     "execution_count": 20,
     "metadata": {},
     "output_type": "execute_result"
    }
   ],
   "source": [
    "random = RandomForestClassifier()\n",
    "random.fit(x_train, y_train)"
   ]
  },
  {
   "cell_type": "code",
   "execution_count": 21,
   "id": "473ab8d1",
   "metadata": {
    "execution": {
     "iopub.execute_input": "2023-01-31T13:18:04.546977Z",
     "iopub.status.busy": "2023-01-31T13:18:04.545786Z",
     "iopub.status.idle": "2023-01-31T13:18:04.559976Z",
     "shell.execute_reply": "2023-01-31T13:18:04.558832Z"
    },
    "papermill": {
     "duration": 0.02817,
     "end_time": "2023-01-31T13:18:04.562309",
     "exception": false,
     "start_time": "2023-01-31T13:18:04.534139",
     "status": "completed"
    },
    "tags": []
   },
   "outputs": [
    {
     "data": {
      "text/html": [
       "<div>\n",
       "<style scoped>\n",
       "    .dataframe tbody tr th:only-of-type {\n",
       "        vertical-align: middle;\n",
       "    }\n",
       "\n",
       "    .dataframe tbody tr th {\n",
       "        vertical-align: top;\n",
       "    }\n",
       "\n",
       "    .dataframe thead th {\n",
       "        text-align: right;\n",
       "    }\n",
       "</style>\n",
       "<table border=\"1\" class=\"dataframe\">\n",
       "  <thead>\n",
       "    <tr style=\"text-align: right;\">\n",
       "      <th></th>\n",
       "      <th>PassengerId</th>\n",
       "      <th>Pclass</th>\n",
       "      <th>Age</th>\n",
       "      <th>SibSp</th>\n",
       "      <th>Parch</th>\n",
       "      <th>Male</th>\n",
       "      <th>Cherbourg</th>\n",
       "      <th>Queenstown</th>\n",
       "    </tr>\n",
       "  </thead>\n",
       "  <tbody>\n",
       "    <tr>\n",
       "      <th>0</th>\n",
       "      <td>892</td>\n",
       "      <td>3</td>\n",
       "      <td>34.5</td>\n",
       "      <td>0</td>\n",
       "      <td>0</td>\n",
       "      <td>1</td>\n",
       "      <td>0</td>\n",
       "      <td>1</td>\n",
       "    </tr>\n",
       "    <tr>\n",
       "      <th>1</th>\n",
       "      <td>893</td>\n",
       "      <td>3</td>\n",
       "      <td>47.0</td>\n",
       "      <td>1</td>\n",
       "      <td>0</td>\n",
       "      <td>0</td>\n",
       "      <td>0</td>\n",
       "      <td>0</td>\n",
       "    </tr>\n",
       "    <tr>\n",
       "      <th>2</th>\n",
       "      <td>894</td>\n",
       "      <td>2</td>\n",
       "      <td>62.0</td>\n",
       "      <td>0</td>\n",
       "      <td>0</td>\n",
       "      <td>1</td>\n",
       "      <td>0</td>\n",
       "      <td>1</td>\n",
       "    </tr>\n",
       "    <tr>\n",
       "      <th>3</th>\n",
       "      <td>895</td>\n",
       "      <td>3</td>\n",
       "      <td>27.0</td>\n",
       "      <td>0</td>\n",
       "      <td>0</td>\n",
       "      <td>1</td>\n",
       "      <td>0</td>\n",
       "      <td>0</td>\n",
       "    </tr>\n",
       "    <tr>\n",
       "      <th>4</th>\n",
       "      <td>896</td>\n",
       "      <td>3</td>\n",
       "      <td>22.0</td>\n",
       "      <td>1</td>\n",
       "      <td>1</td>\n",
       "      <td>0</td>\n",
       "      <td>0</td>\n",
       "      <td>0</td>\n",
       "    </tr>\n",
       "  </tbody>\n",
       "</table>\n",
       "</div>"
      ],
      "text/plain": [
       "   PassengerId  Pclass   Age  SibSp  Parch  Male  Cherbourg  Queenstown\n",
       "0          892       3  34.5      0      0     1          0           1\n",
       "1          893       3  47.0      1      0     0          0           0\n",
       "2          894       2  62.0      0      0     1          0           1\n",
       "3          895       3  27.0      0      0     1          0           0\n",
       "4          896       3  22.0      1      1     0          0           0"
      ]
     },
     "execution_count": 21,
     "metadata": {},
     "output_type": "execute_result"
    }
   ],
   "source": [
    "test.head()"
   ]
  },
  {
   "cell_type": "code",
   "execution_count": 22,
   "id": "29d0e502",
   "metadata": {
    "execution": {
     "iopub.execute_input": "2023-01-31T13:18:04.585608Z",
     "iopub.status.busy": "2023-01-31T13:18:04.584917Z",
     "iopub.status.idle": "2023-01-31T13:18:04.598284Z",
     "shell.execute_reply": "2023-01-31T13:18:04.597140Z"
    },
    "papermill": {
     "duration": 0.028213,
     "end_time": "2023-01-31T13:18:04.601001",
     "exception": false,
     "start_time": "2023-01-31T13:18:04.572788",
     "status": "completed"
    },
    "tags": []
   },
   "outputs": [
    {
     "data": {
      "text/html": [
       "<div>\n",
       "<style scoped>\n",
       "    .dataframe tbody tr th:only-of-type {\n",
       "        vertical-align: middle;\n",
       "    }\n",
       "\n",
       "    .dataframe tbody tr th {\n",
       "        vertical-align: top;\n",
       "    }\n",
       "\n",
       "    .dataframe thead th {\n",
       "        text-align: right;\n",
       "    }\n",
       "</style>\n",
       "<table border=\"1\" class=\"dataframe\">\n",
       "  <thead>\n",
       "    <tr style=\"text-align: right;\">\n",
       "      <th></th>\n",
       "      <th>Survived</th>\n",
       "      <th>Pclass</th>\n",
       "      <th>Age</th>\n",
       "      <th>SibSp</th>\n",
       "      <th>Parch</th>\n",
       "      <th>Male</th>\n",
       "      <th>Cherbourg</th>\n",
       "      <th>Queenstown</th>\n",
       "    </tr>\n",
       "  </thead>\n",
       "  <tbody>\n",
       "    <tr>\n",
       "      <th>0</th>\n",
       "      <td>0</td>\n",
       "      <td>3</td>\n",
       "      <td>22.0</td>\n",
       "      <td>1</td>\n",
       "      <td>0</td>\n",
       "      <td>1</td>\n",
       "      <td>0</td>\n",
       "      <td>0</td>\n",
       "    </tr>\n",
       "    <tr>\n",
       "      <th>1</th>\n",
       "      <td>1</td>\n",
       "      <td>1</td>\n",
       "      <td>38.0</td>\n",
       "      <td>1</td>\n",
       "      <td>0</td>\n",
       "      <td>0</td>\n",
       "      <td>1</td>\n",
       "      <td>0</td>\n",
       "    </tr>\n",
       "    <tr>\n",
       "      <th>2</th>\n",
       "      <td>1</td>\n",
       "      <td>3</td>\n",
       "      <td>26.0</td>\n",
       "      <td>0</td>\n",
       "      <td>0</td>\n",
       "      <td>0</td>\n",
       "      <td>0</td>\n",
       "      <td>0</td>\n",
       "    </tr>\n",
       "    <tr>\n",
       "      <th>3</th>\n",
       "      <td>1</td>\n",
       "      <td>1</td>\n",
       "      <td>35.0</td>\n",
       "      <td>1</td>\n",
       "      <td>0</td>\n",
       "      <td>0</td>\n",
       "      <td>0</td>\n",
       "      <td>0</td>\n",
       "    </tr>\n",
       "    <tr>\n",
       "      <th>4</th>\n",
       "      <td>0</td>\n",
       "      <td>3</td>\n",
       "      <td>35.0</td>\n",
       "      <td>0</td>\n",
       "      <td>0</td>\n",
       "      <td>1</td>\n",
       "      <td>0</td>\n",
       "      <td>0</td>\n",
       "    </tr>\n",
       "  </tbody>\n",
       "</table>\n",
       "</div>"
      ],
      "text/plain": [
       "   Survived  Pclass   Age  SibSp  Parch  Male  Cherbourg  Queenstown\n",
       "0         0       3  22.0      1      0     1          0           0\n",
       "1         1       1  38.0      1      0     0          1           0\n",
       "2         1       3  26.0      0      0     0          0           0\n",
       "3         1       1  35.0      1      0     0          0           0\n",
       "4         0       3  35.0      0      0     1          0           0"
      ]
     },
     "execution_count": 22,
     "metadata": {},
     "output_type": "execute_result"
    }
   ],
   "source": [
    "train.head()"
   ]
  },
  {
   "cell_type": "code",
   "execution_count": 23,
   "id": "7d3bdfb6",
   "metadata": {
    "execution": {
     "iopub.execute_input": "2023-01-31T13:18:04.624535Z",
     "iopub.status.busy": "2023-01-31T13:18:04.624090Z",
     "iopub.status.idle": "2023-01-31T13:18:04.630223Z",
     "shell.execute_reply": "2023-01-31T13:18:04.629036Z"
    },
    "papermill": {
     "duration": 0.020661,
     "end_time": "2023-01-31T13:18:04.632384",
     "exception": false,
     "start_time": "2023-01-31T13:18:04.611723",
     "status": "completed"
    },
    "tags": []
   },
   "outputs": [],
   "source": [
    "submit = test.drop(['PassengerId'], axis=1)"
   ]
  },
  {
   "cell_type": "code",
   "execution_count": 24,
   "id": "807590c0",
   "metadata": {
    "execution": {
     "iopub.execute_input": "2023-01-31T13:18:04.655512Z",
     "iopub.status.busy": "2023-01-31T13:18:04.655058Z",
     "iopub.status.idle": "2023-01-31T13:18:04.668063Z",
     "shell.execute_reply": "2023-01-31T13:18:04.666893Z"
    },
    "papermill": {
     "duration": 0.027138,
     "end_time": "2023-01-31T13:18:04.670177",
     "exception": false,
     "start_time": "2023-01-31T13:18:04.643039",
     "status": "completed"
    },
    "tags": []
   },
   "outputs": [
    {
     "data": {
      "text/html": [
       "<div>\n",
       "<style scoped>\n",
       "    .dataframe tbody tr th:only-of-type {\n",
       "        vertical-align: middle;\n",
       "    }\n",
       "\n",
       "    .dataframe tbody tr th {\n",
       "        vertical-align: top;\n",
       "    }\n",
       "\n",
       "    .dataframe thead th {\n",
       "        text-align: right;\n",
       "    }\n",
       "</style>\n",
       "<table border=\"1\" class=\"dataframe\">\n",
       "  <thead>\n",
       "    <tr style=\"text-align: right;\">\n",
       "      <th></th>\n",
       "      <th>Pclass</th>\n",
       "      <th>Age</th>\n",
       "      <th>SibSp</th>\n",
       "      <th>Parch</th>\n",
       "      <th>Male</th>\n",
       "      <th>Cherbourg</th>\n",
       "      <th>Queenstown</th>\n",
       "    </tr>\n",
       "  </thead>\n",
       "  <tbody>\n",
       "    <tr>\n",
       "      <th>0</th>\n",
       "      <td>3</td>\n",
       "      <td>34.5</td>\n",
       "      <td>0</td>\n",
       "      <td>0</td>\n",
       "      <td>1</td>\n",
       "      <td>0</td>\n",
       "      <td>1</td>\n",
       "    </tr>\n",
       "    <tr>\n",
       "      <th>1</th>\n",
       "      <td>3</td>\n",
       "      <td>47.0</td>\n",
       "      <td>1</td>\n",
       "      <td>0</td>\n",
       "      <td>0</td>\n",
       "      <td>0</td>\n",
       "      <td>0</td>\n",
       "    </tr>\n",
       "    <tr>\n",
       "      <th>2</th>\n",
       "      <td>2</td>\n",
       "      <td>62.0</td>\n",
       "      <td>0</td>\n",
       "      <td>0</td>\n",
       "      <td>1</td>\n",
       "      <td>0</td>\n",
       "      <td>1</td>\n",
       "    </tr>\n",
       "    <tr>\n",
       "      <th>3</th>\n",
       "      <td>3</td>\n",
       "      <td>27.0</td>\n",
       "      <td>0</td>\n",
       "      <td>0</td>\n",
       "      <td>1</td>\n",
       "      <td>0</td>\n",
       "      <td>0</td>\n",
       "    </tr>\n",
       "    <tr>\n",
       "      <th>4</th>\n",
       "      <td>3</td>\n",
       "      <td>22.0</td>\n",
       "      <td>1</td>\n",
       "      <td>1</td>\n",
       "      <td>0</td>\n",
       "      <td>0</td>\n",
       "      <td>0</td>\n",
       "    </tr>\n",
       "  </tbody>\n",
       "</table>\n",
       "</div>"
      ],
      "text/plain": [
       "   Pclass   Age  SibSp  Parch  Male  Cherbourg  Queenstown\n",
       "0       3  34.5      0      0     1          0           1\n",
       "1       3  47.0      1      0     0          0           0\n",
       "2       2  62.0      0      0     1          0           1\n",
       "3       3  27.0      0      0     1          0           0\n",
       "4       3  22.0      1      1     0          0           0"
      ]
     },
     "execution_count": 24,
     "metadata": {},
     "output_type": "execute_result"
    }
   ],
   "source": [
    "submit.head()"
   ]
  },
  {
   "cell_type": "code",
   "execution_count": 25,
   "id": "78477f56",
   "metadata": {
    "execution": {
     "iopub.execute_input": "2023-01-31T13:18:04.693866Z",
     "iopub.status.busy": "2023-01-31T13:18:04.693020Z",
     "iopub.status.idle": "2023-01-31T13:18:04.720847Z",
     "shell.execute_reply": "2023-01-31T13:18:04.719764Z"
    },
    "papermill": {
     "duration": 0.042707,
     "end_time": "2023-01-31T13:18:04.723671",
     "exception": false,
     "start_time": "2023-01-31T13:18:04.680964",
     "status": "completed"
    },
    "tags": []
   },
   "outputs": [],
   "source": [
    "submit['Survived'] = random.predict(submit)"
   ]
  },
  {
   "cell_type": "code",
   "execution_count": 26,
   "id": "9170f6f6",
   "metadata": {
    "execution": {
     "iopub.execute_input": "2023-01-31T13:18:04.747502Z",
     "iopub.status.busy": "2023-01-31T13:18:04.747036Z",
     "iopub.status.idle": "2023-01-31T13:18:04.759910Z",
     "shell.execute_reply": "2023-01-31T13:18:04.758865Z"
    },
    "papermill": {
     "duration": 0.027555,
     "end_time": "2023-01-31T13:18:04.762260",
     "exception": false,
     "start_time": "2023-01-31T13:18:04.734705",
     "status": "completed"
    },
    "tags": []
   },
   "outputs": [
    {
     "data": {
      "text/html": [
       "<div>\n",
       "<style scoped>\n",
       "    .dataframe tbody tr th:only-of-type {\n",
       "        vertical-align: middle;\n",
       "    }\n",
       "\n",
       "    .dataframe tbody tr th {\n",
       "        vertical-align: top;\n",
       "    }\n",
       "\n",
       "    .dataframe thead th {\n",
       "        text-align: right;\n",
       "    }\n",
       "</style>\n",
       "<table border=\"1\" class=\"dataframe\">\n",
       "  <thead>\n",
       "    <tr style=\"text-align: right;\">\n",
       "      <th></th>\n",
       "      <th>Pclass</th>\n",
       "      <th>Age</th>\n",
       "      <th>SibSp</th>\n",
       "      <th>Parch</th>\n",
       "      <th>Male</th>\n",
       "      <th>Cherbourg</th>\n",
       "      <th>Queenstown</th>\n",
       "      <th>Survived</th>\n",
       "    </tr>\n",
       "  </thead>\n",
       "  <tbody>\n",
       "    <tr>\n",
       "      <th>0</th>\n",
       "      <td>3</td>\n",
       "      <td>34.5</td>\n",
       "      <td>0</td>\n",
       "      <td>0</td>\n",
       "      <td>1</td>\n",
       "      <td>0</td>\n",
       "      <td>1</td>\n",
       "      <td>0</td>\n",
       "    </tr>\n",
       "    <tr>\n",
       "      <th>1</th>\n",
       "      <td>3</td>\n",
       "      <td>47.0</td>\n",
       "      <td>1</td>\n",
       "      <td>0</td>\n",
       "      <td>0</td>\n",
       "      <td>0</td>\n",
       "      <td>0</td>\n",
       "      <td>0</td>\n",
       "    </tr>\n",
       "    <tr>\n",
       "      <th>2</th>\n",
       "      <td>2</td>\n",
       "      <td>62.0</td>\n",
       "      <td>0</td>\n",
       "      <td>0</td>\n",
       "      <td>1</td>\n",
       "      <td>0</td>\n",
       "      <td>1</td>\n",
       "      <td>0</td>\n",
       "    </tr>\n",
       "    <tr>\n",
       "      <th>3</th>\n",
       "      <td>3</td>\n",
       "      <td>27.0</td>\n",
       "      <td>0</td>\n",
       "      <td>0</td>\n",
       "      <td>1</td>\n",
       "      <td>0</td>\n",
       "      <td>0</td>\n",
       "      <td>1</td>\n",
       "    </tr>\n",
       "    <tr>\n",
       "      <th>4</th>\n",
       "      <td>3</td>\n",
       "      <td>22.0</td>\n",
       "      <td>1</td>\n",
       "      <td>1</td>\n",
       "      <td>0</td>\n",
       "      <td>0</td>\n",
       "      <td>0</td>\n",
       "      <td>0</td>\n",
       "    </tr>\n",
       "  </tbody>\n",
       "</table>\n",
       "</div>"
      ],
      "text/plain": [
       "   Pclass   Age  SibSp  Parch  Male  Cherbourg  Queenstown  Survived\n",
       "0       3  34.5      0      0     1          0           1         0\n",
       "1       3  47.0      1      0     0          0           0         0\n",
       "2       2  62.0      0      0     1          0           1         0\n",
       "3       3  27.0      0      0     1          0           0         1\n",
       "4       3  22.0      1      1     0          0           0         0"
      ]
     },
     "execution_count": 26,
     "metadata": {},
     "output_type": "execute_result"
    }
   ],
   "source": [
    "submit.head()"
   ]
  },
  {
   "cell_type": "code",
   "execution_count": 27,
   "id": "6629a18b",
   "metadata": {
    "execution": {
     "iopub.execute_input": "2023-01-31T13:18:04.786933Z",
     "iopub.status.busy": "2023-01-31T13:18:04.786500Z",
     "iopub.status.idle": "2023-01-31T13:18:04.791450Z",
     "shell.execute_reply": "2023-01-31T13:18:04.790649Z"
    },
    "papermill": {
     "duration": 0.020188,
     "end_time": "2023-01-31T13:18:04.793711",
     "exception": false,
     "start_time": "2023-01-31T13:18:04.773523",
     "status": "completed"
    },
    "tags": []
   },
   "outputs": [],
   "source": [
    "submit['PassengerId'] = test['PassengerId']"
   ]
  },
  {
   "cell_type": "code",
   "execution_count": 28,
   "id": "82efe224",
   "metadata": {
    "execution": {
     "iopub.execute_input": "2023-01-31T13:18:04.818495Z",
     "iopub.status.busy": "2023-01-31T13:18:04.817797Z",
     "iopub.status.idle": "2023-01-31T13:18:04.824136Z",
     "shell.execute_reply": "2023-01-31T13:18:04.823047Z"
    },
    "papermill": {
     "duration": 0.021635,
     "end_time": "2023-01-31T13:18:04.826607",
     "exception": false,
     "start_time": "2023-01-31T13:18:04.804972",
     "status": "completed"
    },
    "tags": []
   },
   "outputs": [],
   "source": [
    "submit.drop(['Pclass', 'Age', 'SibSp', 'Parch', 'Male', 'Cherbourg', 'Queenstown'], axis=1, inplace=True)"
   ]
  },
  {
   "cell_type": "code",
   "execution_count": 29,
   "id": "103fe5dd",
   "metadata": {
    "execution": {
     "iopub.execute_input": "2023-01-31T13:18:04.851309Z",
     "iopub.status.busy": "2023-01-31T13:18:04.850826Z",
     "iopub.status.idle": "2023-01-31T13:18:04.862017Z",
     "shell.execute_reply": "2023-01-31T13:18:04.860797Z"
    },
    "papermill": {
     "duration": 0.026375,
     "end_time": "2023-01-31T13:18:04.864310",
     "exception": false,
     "start_time": "2023-01-31T13:18:04.837935",
     "status": "completed"
    },
    "tags": []
   },
   "outputs": [
    {
     "data": {
      "text/html": [
       "<div>\n",
       "<style scoped>\n",
       "    .dataframe tbody tr th:only-of-type {\n",
       "        vertical-align: middle;\n",
       "    }\n",
       "\n",
       "    .dataframe tbody tr th {\n",
       "        vertical-align: top;\n",
       "    }\n",
       "\n",
       "    .dataframe thead th {\n",
       "        text-align: right;\n",
       "    }\n",
       "</style>\n",
       "<table border=\"1\" class=\"dataframe\">\n",
       "  <thead>\n",
       "    <tr style=\"text-align: right;\">\n",
       "      <th></th>\n",
       "      <th>Survived</th>\n",
       "      <th>PassengerId</th>\n",
       "    </tr>\n",
       "  </thead>\n",
       "  <tbody>\n",
       "    <tr>\n",
       "      <th>0</th>\n",
       "      <td>0</td>\n",
       "      <td>892</td>\n",
       "    </tr>\n",
       "    <tr>\n",
       "      <th>1</th>\n",
       "      <td>0</td>\n",
       "      <td>893</td>\n",
       "    </tr>\n",
       "    <tr>\n",
       "      <th>2</th>\n",
       "      <td>0</td>\n",
       "      <td>894</td>\n",
       "    </tr>\n",
       "    <tr>\n",
       "      <th>3</th>\n",
       "      <td>1</td>\n",
       "      <td>895</td>\n",
       "    </tr>\n",
       "    <tr>\n",
       "      <th>4</th>\n",
       "      <td>0</td>\n",
       "      <td>896</td>\n",
       "    </tr>\n",
       "    <tr>\n",
       "      <th>5</th>\n",
       "      <td>0</td>\n",
       "      <td>897</td>\n",
       "    </tr>\n",
       "    <tr>\n",
       "      <th>6</th>\n",
       "      <td>1</td>\n",
       "      <td>898</td>\n",
       "    </tr>\n",
       "    <tr>\n",
       "      <th>7</th>\n",
       "      <td>0</td>\n",
       "      <td>899</td>\n",
       "    </tr>\n",
       "    <tr>\n",
       "      <th>8</th>\n",
       "      <td>0</td>\n",
       "      <td>900</td>\n",
       "    </tr>\n",
       "    <tr>\n",
       "      <th>9</th>\n",
       "      <td>0</td>\n",
       "      <td>901</td>\n",
       "    </tr>\n",
       "  </tbody>\n",
       "</table>\n",
       "</div>"
      ],
      "text/plain": [
       "   Survived  PassengerId\n",
       "0         0          892\n",
       "1         0          893\n",
       "2         0          894\n",
       "3         1          895\n",
       "4         0          896\n",
       "5         0          897\n",
       "6         1          898\n",
       "7         0          899\n",
       "8         0          900\n",
       "9         0          901"
      ]
     },
     "execution_count": 29,
     "metadata": {},
     "output_type": "execute_result"
    }
   ],
   "source": [
    "submit.head(10)"
   ]
  },
  {
   "cell_type": "code",
   "execution_count": 30,
   "id": "8cf34683",
   "metadata": {
    "execution": {
     "iopub.execute_input": "2023-01-31T13:18:04.889025Z",
     "iopub.status.busy": "2023-01-31T13:18:04.888577Z",
     "iopub.status.idle": "2023-01-31T13:18:04.894873Z",
     "shell.execute_reply": "2023-01-31T13:18:04.893524Z"
    },
    "papermill": {
     "duration": 0.021605,
     "end_time": "2023-01-31T13:18:04.897392",
     "exception": false,
     "start_time": "2023-01-31T13:18:04.875787",
     "status": "completed"
    },
    "tags": []
   },
   "outputs": [],
   "source": [
    "submit = submit[['PassengerId', 'Survived']]"
   ]
  },
  {
   "cell_type": "code",
   "execution_count": 31,
   "id": "f7f41596",
   "metadata": {
    "execution": {
     "iopub.execute_input": "2023-01-31T13:18:04.922819Z",
     "iopub.status.busy": "2023-01-31T13:18:04.922330Z",
     "iopub.status.idle": "2023-01-31T13:18:04.930903Z",
     "shell.execute_reply": "2023-01-31T13:18:04.929740Z"
    },
    "papermill": {
     "duration": 0.02415,
     "end_time": "2023-01-31T13:18:04.933436",
     "exception": false,
     "start_time": "2023-01-31T13:18:04.909286",
     "status": "completed"
    },
    "tags": []
   },
   "outputs": [],
   "source": [
    "submit.to_csv('submission.csv', index=False)"
   ]
  },
  {
   "cell_type": "code",
   "execution_count": null,
   "id": "12939074",
   "metadata": {
    "papermill": {
     "duration": 0.01113,
     "end_time": "2023-01-31T13:18:04.956094",
     "exception": false,
     "start_time": "2023-01-31T13:18:04.944964",
     "status": "completed"
    },
    "tags": []
   },
   "outputs": [],
   "source": []
  }
 ],
 "metadata": {
  "kernelspec": {
   "display_name": "Python 3",
   "language": "python",
   "name": "python3"
  },
  "language_info": {
   "codemirror_mode": {
    "name": "ipython",
    "version": 3
   },
   "file_extension": ".py",
   "mimetype": "text/x-python",
   "name": "python",
   "nbconvert_exporter": "python",
   "pygments_lexer": "ipython3",
   "version": "3.7.12"
  },
  "papermill": {
   "default_parameters": {},
   "duration": 14.581583,
   "end_time": "2023-01-31T13:18:05.790066",
   "environment_variables": {},
   "exception": null,
   "input_path": "__notebook__.ipynb",
   "output_path": "__notebook__.ipynb",
   "parameters": {},
   "start_time": "2023-01-31T13:17:51.208483",
   "version": "2.3.4"
  }
 },
 "nbformat": 4,
 "nbformat_minor": 5
}
